{
 "cells": [
  {
   "cell_type": "code",
   "execution_count": 1,
   "metadata": {},
   "outputs": [],
   "source": [
    "import matplotlib.pyplot as plt\n",
    "import numpy as np\n",
    "import script as script\n",
    "\n",
    "scan_id = '_'"
   ]
  },
  {
   "cell_type": "markdown",
   "metadata": {},
   "source": [
    "Important: make sure you have done two steps after turning on Kiethleys:\n",
    "\n",
    "- Press Menu, go to Settings, check the Command Set tab is set to TSP. If not, click and set to TSP. Keithley may restart.\n",
    "- Press Menu, go to Communications, go to TSP Link, click initilize."
   ]
  },
  {
   "cell_type": "markdown",
   "metadata": {},
   "source": [
    "If running transfer code, uncomment the following code block."
   ]
  },
  {
   "cell_type": "code",
   "execution_count": 2,
   "metadata": {},
   "outputs": [],
   "source": [
    "# test_leakage = False\n",
    "# gate_start=-50\n",
    "# gate_end=50\n",
    "# drain_voltage=0.5\n",
    "# sweep_steps=150\n",
    "# test_hysteresis=True\n",
    "\n",
    "# gate_readings, drain_readings = script.transfer(\n",
    "#     gate_start=gate_start,\n",
    "#     gate_end=gate_end,\n",
    "#     drain_voltage=drain_voltage,\n",
    "#     sweep_steps=sweep_steps,\n",
    "#     test_hysteresis=test_hysteresis,\n",
    "#     test_leakage=test_leakage\n",
    "# )\n",
    "# # Note: if gate current is also required, set test_leakage as True\n",
    "# transfer_curve = np.array([gate_readings[:,0], drain_readings[:,1]])\n",
    "# np.savetxt(scan_id + '_transfer_curve.csv', transfer_curve)\n",
    "# np.save(scan_id + '_transfer_curve', transfer_curve)\n",
    "# if test_leakage:\n",
    "#     np.save(scan_id + '_transfer_gate_current', gate_readings)\n",
    "#     np.savetxt(scan_id + '_transfer_gate_current.csv', gate_readings)\n",
    "# plt.plot(transfer_curve[0][:sweep_steps], transfer_curve[1][:sweep_steps])\n",
    "# plt.plot(transfer_curve[0][sweep_steps:], transfer_curve[1][sweep_steps:])"
   ]
  },
  {
   "cell_type": "markdown",
   "metadata": {},
   "source": [
    "If running output code, uncomment the following code block."
   ]
  },
  {
   "cell_type": "code",
   "execution_count": 3,
   "metadata": {},
   "outputs": [],
   "source": [
    "# drain_start=2\n",
    "# drain_end=-2\n",
    "# gate_voltage=7.5\n",
    "# sweep_steps=20\n",
    "# test_hysteresis=True\n",
    "\n",
    "# gate_readings, drain_readings = script.output(\n",
    "#             drain_start=drain_start,\n",
    "#             drain_end=drain_end,\n",
    "#             gate_voltage=gate_voltage,\n",
    "#             sweep_steps=sweep_steps,\n",
    "#             test_hysteresis=test_hysteresis)\n",
    "\n",
    "# output_curve = drain_readings\n",
    "# # np.savetxt(scan_id + '_output_gate_readings.csv', gate_readings)\n",
    "# np.savetxt(scan_id + '_output_curve.csv', output_curve)\n",
    "# # np.save(scan_id + '_output_gate_readings', gate_readings)\n",
    "# np.save(scan_id + '_output_curve', output_curve)\n",
    "\n",
    "# plt.plot(output_curve[0][:sweep_steps], output_curve[1][:sweep_steps])\n",
    "# plt.plot(output_curve[0][sweep_steps:], output_curve[1][sweep_steps:])"
   ]
  },
  {
   "cell_type": "code",
   "execution_count": null,
   "metadata": {},
   "outputs": [],
   "source": []
  }
 ],
 "metadata": {
  "kernelspec": {
   "display_name": "base",
   "language": "python",
   "name": "python3"
  },
  "language_info": {
   "codemirror_mode": {
    "name": "ipython",
    "version": 3
   },
   "file_extension": ".py",
   "mimetype": "text/x-python",
   "name": "python",
   "nbconvert_exporter": "python",
   "pygments_lexer": "ipython3",
   "version": "3.11.5"
  }
 },
 "nbformat": 4,
 "nbformat_minor": 2
}
