{
 "cells": [
  {
   "cell_type": "code",
   "execution_count": 1,
   "metadata": {},
   "outputs": [],
   "source": [
    "import matplotlib.pyplot as plt\n",
    "import numpy as np\n",
    "import script as script\n",
    "\n",
    "scan_id = 'DC1_DC7_new_'"
   ]
  },
  {
   "cell_type": "markdown",
   "metadata": {},
   "source": [
    "Important: make sure you have done two steps after turning on Kiethleys:\n",
    "\n",
    "- Press Menu, go to Settings, check the Command Set tab is set to TSP. If not, click and set to TSP. Keithley may restart.\n",
    "- Press Menu, go to Communications, go to TSP Link, click initilize."
   ]
  },
  {
   "cell_type": "markdown",
   "metadata": {},
   "source": [
    "If running transfer code, uncomment the following code block."
   ]
  },
  {
   "cell_type": "code",
   "execution_count": 2,
   "metadata": {},
   "outputs": [
    {
     "name": "stdout",
     "output_type": "stream",
     "text": [
      "Sweep completed >>>>>>\r"
     ]
    }
   ],
   "source": [
    "gate_readings, drain_readings = script.transfer(\n",
    "    gate_start=-60,\n",
    "    gate_end=60,\n",
    "    drain_voltage=1,\n",
    "    sweep_steps=120,\n",
    "    test_hysteresis=True,\n",
    "    test_leakage=False\n",
    ")\n",
    "np.savetxt(scan_id + 'transfer_gate_readings.csv', gate_readings)\n",
    "np.savetxt(scan_id + 'transfer_drain_readings.csv', drain_readings)\n",
    "np.save(scan_id + 'transfer_gate_readings', gate_readings)\n",
    "np.save(scan_id + 'transfer_drain_readings', drain_readings)"
   ]
  },
  {
   "cell_type": "markdown",
   "metadata": {},
   "source": [
    "If running output code, uncomment the following code block."
   ]
  },
  {
   "cell_type": "code",
   "execution_count": 3,
   "metadata": {},
   "outputs": [],
   "source": [
    "# gate_readings, drain_readings = script.output(\n",
    "#             drain_start=2,\n",
    "#             drain_end=-2,\n",
    "#             gate_voltage=7.5,\n",
    "#             sweep_steps=20,\n",
    "#             test_hysteresis=True)\n",
    "# np.savetxt(scan_id + 'output_gate_readings.csv', gate_readings)\n",
    "# np.savetxt(scan_id + 'output_drain_readings.csv', drain_readings)\n",
    "# # np.save(scan_id + 'output_gate_readings', gate_readings)\n",
    "# # np.save(scan_id + 'output_drain_readings', drain_readings)"
   ]
  },
  {
   "cell_type": "code",
   "execution_count": null,
   "metadata": {},
   "outputs": [],
   "source": []
  }
 ],
 "metadata": {
  "kernelspec": {
   "display_name": "base",
   "language": "python",
   "name": "python3"
  },
  "language_info": {
   "codemirror_mode": {
    "name": "ipython",
    "version": 3
   },
   "file_extension": ".py",
   "mimetype": "text/x-python",
   "name": "python",
   "nbconvert_exporter": "python",
   "pygments_lexer": "ipython3",
   "version": "3.11.5"
  }
 },
 "nbformat": 4,
 "nbformat_minor": 2
}
