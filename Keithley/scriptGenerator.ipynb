{
 "cells": [
  {
   "cell_type": "code",
   "execution_count": 1,
   "metadata": {},
   "outputs": [],
   "source": [
    "import matplotlib.pyplot as plt"
   ]
  },
  {
   "cell_type": "code",
   "execution_count": 2,
   "metadata": {},
   "outputs": [],
   "source": [
    "import numpy as np\n",
    "import script as script"
   ]
  },
  {
   "cell_type": "code",
   "execution_count": 3,
   "metadata": {},
   "outputs": [
    {
     "name": "stdout",
     "output_type": "stream",
     "text": [
      "Sweep completed >>>>>>\r"
     ]
    }
   ],
   "source": [
    "gate_readings, drain_readings = script.transfer(\n",
    "    gate_start=-6,\n",
    "    gate_end=6,\n",
    "    drain_voltage=1,\n",
    "    sweep_steps=120,\n",
    "    test_hysteresis=True,\n",
    "    test_leakage=True\n",
    ")"
   ]
  },
  {
   "cell_type": "code",
   "execution_count": 4,
   "metadata": {},
   "outputs": [
    {
     "name": "stdout",
     "output_type": "stream",
     "text": [
      "Sweep completed >>>>>>\r"
     ]
    }
   ],
   "source": [
    "gate_readings, drain_readings = script.transfer(\n",
    "    gate_start=-6,\n",
    "    gate_end=6,\n",
    "    drain_voltage=0.55,\n",
    "    sweep_steps=100,\n",
    "    test_hysteresis=True,\n",
    "    test_leakage=False,\n",
    ")"
   ]
  },
  {
   "cell_type": "code",
   "execution_count": 5,
   "metadata": {},
   "outputs": [
    {
     "name": "stdout",
     "output_type": "stream",
     "text": [
      "Sweep completed >>>>>>\r"
     ]
    }
   ],
   "source": [
    "\n",
    "gate_readings, drain_readings = script.transfer(\n",
    "    gate_start=-6,\n",
    "    gate_end=6,\n",
    "    drain_voltage=0.55,\n",
    "    sweep_steps=100,\n",
    "    test_hysteresis=False,\n",
    "    test_leakage=True,\n",
    ")"
   ]
  },
  {
   "cell_type": "code",
   "execution_count": 6,
   "metadata": {},
   "outputs": [
    {
     "name": "stdout",
     "output_type": "stream",
     "text": [
      "Sweep completed >>>>>>\r"
     ]
    }
   ],
   "source": [
    "gate_readings, drain_readings = script.transfer(\n",
    "    gate_start=-6,\n",
    "    gate_end=6,\n",
    "    drain_voltage=0.55,\n",
    "    sweep_steps=100,\n",
    "    test_hysteresis=False,\n",
    "    test_leakage=False,\n",
    ")\n"
   ]
  },
  {
   "cell_type": "code",
   "execution_count": 7,
   "metadata": {},
   "outputs": [
    {
     "name": "stdout",
     "output_type": "stream",
     "text": [
      "Sweep completed >>>>>>\r"
     ]
    }
   ],
   "source": [
    "gate_readings, drain_readings = script.output(\n",
    "            drain_start=2,\n",
    "            drain_end=-2,\n",
    "            gate_voltage=7.5,\n",
    "            sweep_steps=50,\n",
    "            test_hysteresis=True)"
   ]
  },
  {
   "cell_type": "code",
   "execution_count": 8,
   "metadata": {},
   "outputs": [
    {
     "name": "stdout",
     "output_type": "stream",
     "text": [
      "Sweep completed >>>>>>\r"
     ]
    }
   ],
   "source": [
    "gate_readings, drain_readings = script.output(\n",
    "            drain_start=2,\n",
    "            drain_end=-2,\n",
    "            gate_voltage=7.5,\n",
    "            sweep_steps=50,\n",
    "            test_hysteresis=False)"
   ]
  },
  {
   "cell_type": "code",
   "execution_count": null,
   "metadata": {},
   "outputs": [],
   "source": []
  }
 ],
 "metadata": {
  "kernelspec": {
   "display_name": "base",
   "language": "python",
   "name": "python3"
  },
  "language_info": {
   "codemirror_mode": {
    "name": "ipython",
    "version": 3
   },
   "file_extension": ".py",
   "mimetype": "text/x-python",
   "name": "python",
   "nbconvert_exporter": "python",
   "pygments_lexer": "ipython3",
   "version": "3.11.5"
  }
 },
 "nbformat": 4,
 "nbformat_minor": 2
}
