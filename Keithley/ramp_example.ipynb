{
 "cells": [
  {
   "cell_type": "code",
   "execution_count": 1,
   "metadata": {},
   "outputs": [],
   "source": [
    "import matplotlib.pyplot as plt\n",
    "import numpy as np\n",
    "from script import set_smu_ready_for_ramp, ramp\n",
    "\n",
    "gate = set_smu_ready_for_ramp()\n",
    "gate.write('smu.source.output = smu.ON')"
   ]
  },
  {
   "cell_type": "code",
   "execution_count": 4,
   "metadata": {},
   "outputs": [
    {
     "data": {
      "text/plain": [
       "array([1.99998343, 1.99998033, 1.89473712, 1.78945017, 1.68419635,\n",
       "       1.57895219, 1.47370744, 1.36839163, 1.26313841, 1.15789855,\n",
       "       1.05265307, 0.94735998, 0.84211916, 0.73687047, 0.63161629,\n",
       "       0.52630556, 0.42105016, 0.31579071, 0.21054336, 0.10526105])"
      ]
     },
     "execution_count": 4,
     "metadata": {},
     "output_type": "execute_result"
    }
   ],
   "source": [
    "ramp(smu=gate, start_volt=0, end_volt=2)"
   ]
  }
 ],
 "metadata": {
  "kernelspec": {
   "display_name": "base",
   "language": "python",
   "name": "python3"
  },
  "language_info": {
   "codemirror_mode": {
    "name": "ipython",
    "version": 3
   },
   "file_extension": ".py",
   "mimetype": "text/x-python",
   "name": "python",
   "nbconvert_exporter": "python",
   "pygments_lexer": "ipython3",
   "version": "3.11.5"
  }
 },
 "nbformat": 4,
 "nbformat_minor": 2
}
