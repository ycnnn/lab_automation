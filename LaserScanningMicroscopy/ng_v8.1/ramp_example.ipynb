{
 "cells": [
  {
   "cell_type": "code",
   "execution_count": 1,
   "metadata": {},
   "outputs": [
    {
     "data": {
      "text/plain": [
       "28"
      ]
     },
     "execution_count": 1,
     "metadata": {},
     "output_type": "execute_result"
    }
   ],
   "source": [
    "import matplotlib.pyplot as plt\n",
    "import numpy as np\n",
    "from Keithley2450 import set_smu_ready_for_ramp, ramp\n",
    "\n",
    "gate = set_smu_ready_for_ramp()\n",
    "gate.write('smu.source.output = smu.ON')"
   ]
  },
  {
   "cell_type": "code",
   "execution_count": 2,
   "metadata": {},
   "outputs": [
    {
     "name": "stdout",
     "output_type": "stream",
     "text": [
      "Current VOLT reading is [-1.4754268705e-06] V.\n"
     ]
    },
    {
     "data": {
      "text/plain": [
       "array([-1.99092665e-06,  2.22198293e-01,  4.44435388e-01,  6.66633368e-01,\n",
       "        8.88897419e-01,  1.11108661e+00,  1.33335686e+00,  1.55554223e+00,\n",
       "        1.77777076e+00,  1.99996769e+00])"
      ]
     },
     "execution_count": 2,
     "metadata": {},
     "output_type": "execute_result"
    }
   ],
   "source": [
    "ramp(smu=gate, end_volt=2)"
   ]
  },
  {
   "cell_type": "code",
   "execution_count": 3,
   "metadata": {},
   "outputs": [
    {
     "name": "stdout",
     "output_type": "stream",
     "text": [
      "Current VOLT reading is [1.9999693632] V.\n"
     ]
    },
    {
     "data": {
      "text/plain": [
       "29"
      ]
     },
     "execution_count": 3,
     "metadata": {},
     "output_type": "execute_result"
    }
   ],
   "source": [
    "ramp(smu=gate, end_volt=0)\n",
    "gate.write('smu.source.output = smu.OFF')"
   ]
  },
  {
   "cell_type": "code",
   "execution_count": null,
   "metadata": {},
   "outputs": [],
   "source": []
  }
 ],
 "metadata": {
  "kernelspec": {
   "display_name": "base",
   "language": "python",
   "name": "python3"
  },
  "language_info": {
   "codemirror_mode": {
    "name": "ipython",
    "version": 3
   },
   "file_extension": ".py",
   "mimetype": "text/x-python",
   "name": "python",
   "nbconvert_exporter": "python",
   "pygments_lexer": "ipython3",
   "version": "3.11.5"
  }
 },
 "nbformat": 4,
 "nbformat_minor": 2
}
