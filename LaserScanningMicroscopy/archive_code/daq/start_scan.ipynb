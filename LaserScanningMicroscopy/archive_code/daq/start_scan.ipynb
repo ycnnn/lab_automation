{
 "cells": [
  {
   "cell_type": "code",
   "execution_count": 1,
   "metadata": {},
   "outputs": [],
   "source": [
    "from scan_2_in_3_out import scan\n",
    "from scan_2_in_3_out import params\n",
    "# from write_control import position_parsameters\n",
    "from write_control import sweep_xy\n",
    "from time import time\n",
    "import matplotlib.pyplot as plt\n",
    "import numpy as np"
   ]
  },
  {
   "cell_type": "code",
   "execution_count": null,
   "metadata": {},
   "outputs": [],
   "source": [
    "\n",
    "parameters = params(auto_scale=True,\n",
    "                ch1_v_min=-9.9,\n",
    "                ch1_v_max=9.9,\n",
    "                ch2_v_min=-0.1,\n",
    "                ch2_v_max=0.1,\n",
    "                ch3_v_min=-2,\n",
    "                ch3_v_max=2,\n",
    "                pixels=128,\n",
    "                frequency=1,\n",
    "                dark_mode= True,\n",
    "                colormap='bwr',\n",
    "                x_center=45,\n",
    "                y_center=90,\n",
    "                x_size=0.001,\n",
    "                y_size=0.001,\n",
    "                angle=0,\n",
    "                scan_id=f'__line_scan',\n",
    "                input_mapping=[\"Dev1/ai0\", \"Dev1/ai4\", \"Dev1/ai20\"]\n",
    "                )\n",
    "close_window = True \n",
    "data = scan(parameters,close=close_window)\n",
    "for i in range(3):\n",
    "    np.savetxt(parameters.scan_id + f'_channel_{i}.csv', data[i])"
   ]
  },
  {
   "cell_type": "markdown",
   "metadata": {},
   "source": [
    "Examples for running multiple scans:"
   ]
  },
  {
   "cell_type": "code",
   "execution_count": null,
   "metadata": {},
   "outputs": [],
   "source": [
    "# loop_num = 10\n",
    "# initial_time = time()\n",
    "# for index in range(loop_num):\n",
    "#     parameters = params(auto_scale=True,\n",
    "#                     ch1_v_min=-9.9,\n",
    "#                     ch1_v_max=9.9,\n",
    "#                     ch2_v_min=-0.1,\n",
    "#                     ch2_v_max=0.1,\n",
    "#                     ch3_v_min=-2,\n",
    "#                     ch3_v_max=2,\n",
    "#                     pixels=128,\n",
    "#                     frequency=1,\n",
    "#                     dark_mode= True,\n",
    "#                     colormap='bwr',\n",
    "#                     x_center=45,\n",
    "#                     y_center=90,\n",
    "#                     x_size=0.001,\n",
    "#                     y_size=0.001,\n",
    "#                     angle=0,\n",
    "#                     scan_id=f'__line_scan'\n",
    "#                     )\n",
    "#     close_window = True if index == loop_num - 1 else False\n",
    "#     data = scan(parameters,close=close_window)\n",
    "#     print(time()-initial_time)\n",
    "#     initial_time = time()"
   ]
  },
  {
   "cell_type": "code",
   "execution_count": null,
   "metadata": {},
   "outputs": [],
   "source": []
  }
 ],
 "metadata": {
  "kernelspec": {
   "display_name": "base",
   "language": "python",
   "name": "python3"
  },
  "language_info": {
   "codemirror_mode": {
    "name": "ipython",
    "version": 3
   },
   "file_extension": ".py",
   "mimetype": "text/x-python",
   "name": "python",
   "nbconvert_exporter": "python",
   "pygments_lexer": "ipython3",
   "version": "3.11.5"
  }
 },
 "nbformat": 4,
 "nbformat_minor": 2
}
