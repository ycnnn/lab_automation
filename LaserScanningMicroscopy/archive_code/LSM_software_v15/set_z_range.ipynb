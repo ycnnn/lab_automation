{
 "cells": [
  {
   "cell_type": "code",
   "execution_count": 1,
   "metadata": {},
   "outputs": [],
   "source": [
    "from params.position_params import Position_parameters\n",
    "from params.scan_params import Scan_parameters\n",
    "from daq_driver import reset_daq, set_z_height, read_daq_output\n",
    "import json\n",
    "import numpy as np"
   ]
  },
  {
   "cell_type": "code",
   "execution_count": 2,
   "metadata": {},
   "outputs": [
    {
     "data": {
      "text/plain": [
       "array([ 9.18465016e-05, -5.65699424e-04, -2.36926461e-04,  9.18465016e-05])"
      ]
     },
     "execution_count": 2,
     "metadata": {},
     "output_type": "execute_result"
    }
   ],
   "source": [
    "scan_parameters = Scan_parameters()\n",
    "reset_daq(scan_parameters)"
   ]
  },
  {
   "cell_type": "code",
   "execution_count": 3,
   "metadata": {},
   "outputs": [
    {
     "data": {
      "text/plain": [
       "array([-0.00023693, -0.00089447, -0.00023693, -0.00023693])"
      ]
     },
     "execution_count": 3,
     "metadata": {},
     "output_type": "execute_result"
    }
   ],
   "source": [
    "read_daq_output(scan_parameters)"
   ]
  },
  {
   "cell_type": "code",
   "execution_count": 39,
   "metadata": {},
   "outputs": [],
   "source": [
    "position_parameters = Position_parameters(\n",
    "                                            x_size=10,\n",
    "                                            y_size=10,\n",
    "                                            # x_center=0,\n",
    "                                            # y_center=0,\n",
    "                                            x_pixels=128,\n",
    "                                            y_pixels=100,\n",
    "                                            z_center=25.5)\n",
    "set_z_height(scan_parameters, position_parameters)"
   ]
  },
  {
   "cell_type": "code",
   "execution_count": null,
   "metadata": {},
   "outputs": [],
   "source": [
    "def switch_height(low_height=10.0, high_height=40.0):\n",
    "    z_reading = read_daq_output(scan_parameters)[2]/0.2\n",
    "    if z_reading >= (low_height + high_height)/2:\n",
    "        new_z = low_height\n",
    "    else:\n",
    "        new_z = high_height\n",
    "    scan_parameters = Scan_parameters()\n",
    "    position_parameters = Position_parameters(\n",
    "                                            x_size=10,\n",
    "                                            y_size=10,\n",
    "                                            x_pixels=10,\n",
    "                                            y_pixels=10,\n",
    "                                            z_center=new_z)\n",
    "    set_z_height(scan_parameters, position_parameters)"
   ]
  },
  {
   "cell_type": "code",
   "execution_count": null,
   "metadata": {},
   "outputs": [],
   "source": [
    "switch_height()"
   ]
  },
  {
   "cell_type": "code",
   "execution_count": null,
   "metadata": {},
   "outputs": [],
   "source": []
  }
 ],
 "metadata": {
  "kernelspec": {
   "display_name": "base",
   "language": "python",
   "name": "python3"
  },
  "language_info": {
   "codemirror_mode": {
    "name": "ipython",
    "version": 3
   },
   "file_extension": ".py",
   "mimetype": "text/x-python",
   "name": "python",
   "nbconvert_exporter": "python",
   "pygments_lexer": "ipython3",
   "version": "3.11.5"
  }
 },
 "nbformat": 4,
 "nbformat_minor": 2
}
