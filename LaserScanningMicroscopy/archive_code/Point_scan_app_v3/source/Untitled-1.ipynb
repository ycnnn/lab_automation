{
 "cells": [
  {
   "cell_type": "code",
   "execution_count": 1,
   "metadata": {},
   "outputs": [],
   "source": [
    "import pyvisa "
   ]
  },
  {
   "cell_type": "code",
   "execution_count": 2,
   "metadata": {},
   "outputs": [],
   "source": [
    "rm = pyvisa.ResourceManager()\n",
    "smu = rm.open_resource(\"USB0::0x05E6::0x2450::04096331::INSTR\")"
   ]
  },
  {
   "cell_type": "code",
   "execution_count": 3,
   "metadata": {},
   "outputs": [
    {
     "data": {
      "text/plain": [
       "28"
      ]
     },
     "execution_count": 3,
     "metadata": {},
     "output_type": "execute_result"
    }
   ],
   "source": [
    "smu.write(\"smu.source.func = smu.FUNC_DC_VOLTAGE\")\n",
    "smu.write(\"smu.measure.func = smu.FUNC_DC_VOLTAGE\")\n",
    "# smu.write(\"smu.measure.func = smu.FUNC_DC_CURRENT\")\n",
    "smu.write('smu.source.output = smu.ON')"
   ]
  },
  {
   "cell_type": "code",
   "execution_count": 4,
   "metadata": {},
   "outputs": [],
   "source": [
    "smu.write(\"smu.measure.func = smu.FUNC_DC_VOLTAGE\")\n",
    "for index in range(10):\n",
    "    smu.write(f'smu.source.level = {index/10}')\n",
    "    smu.write('reading = smu.measure.read()')\n",
    "    measured_data = smu.query_ascii_values('print(reading)')"
   ]
  },
  {
   "cell_type": "code",
   "execution_count": 5,
   "metadata": {},
   "outputs": [
    {
     "name": "stdout",
     "output_type": "stream",
     "text": [
      "Done! Measured [4.4638294797e-12]\n",
      "Done! Measured [6.1349692687e-12]\n",
      "Done! Measured [6.9317546494e-12]\n",
      "Done! Measured [6.4029120547e-12]\n",
      "Done! Measured [6.2618937813e-12]\n",
      "Done! Measured [6.2125296227e-12]\n",
      "Done! Measured [6.5016256268e-12]\n",
      "Done! Measured [6.3465023167e-12]\n",
      "Done! Measured [6.9670094346e-12]\n",
      "Done! Measured [6.8612494158e-12]\n",
      "Done! Measured [6.565087883e-12]\n",
      "Done! Measured [6.1490682338e-12]\n",
      "Done! Measured [6.4240722117e-12]\n",
      "Done! Measured [6.5932962215e-12]\n",
      "Done! Measured [6.2971416276e-12]\n",
      "Done! Measured [6.7836760514e-12]\n",
      "Done! Measured [6.6003470051e-12]\n",
      "Done! Measured [6.7202137952e-12]\n",
      "Done! Measured [6.5509915201e-12]\n",
      "Done! Measured [6.8753431767e-12]\n",
      "Done! Measured [7.0516223069e-12]\n",
      "Done! Measured [6.1631784745e-12]\n",
      "Done! Measured [6.4663725763e-12]\n",
      "Done! Measured [5.5779400196e-12]\n",
      "Done! Measured [5.8176605894e-12]\n",
      "Done! Measured [6.8894508154e-12]\n",
      "Done! Measured [6.3183035193e-12]\n",
      "Done! Measured [7.0727737903e-12]\n",
      "Done! Measured [6.4804750108e-12]\n",
      "Done! Measured [6.3817718471e-12]\n",
      "Done! Measured [6.5368899529e-12]\n",
      "Done! Measured [6.8400901262e-12]\n",
      "Done! Measured [6.7554720498e-12]\n",
      "Done! Measured [6.4945800474e-12]\n",
      "Done! Measured [7.2631631612e-12]\n",
      "Done! Measured [6.4240661402e-12]\n",
      "Done! Measured [6.1420200523e-12]\n",
      "Done! Measured [6.7061165648e-12]\n",
      "Done! Measured [5.6131843965e-12]\n",
      "Done! Measured [6.4945783126e-12]\n",
      "Done! Measured [6.7695840253e-12]\n",
      "Done! Measured [6.854190826e-12]\n",
      "Done! Measured [6.4804784802e-12]\n",
      "Done! Measured [6.5227996615e-12]\n",
      "Done! Measured [6.3535617739e-12]\n",
      "Done! Measured [6.5580379668e-12]\n",
      "Done! Measured [6.3042062889e-12]\n",
      "Done! Measured [6.621497621e-12]\n",
      "Done! Measured [6.8753440441e-12]\n",
      "Done! Measured [6.8894490807e-12]\n",
      "Done! Measured [6.6144537764e-12]\n",
      "Done! Measured [6.8048292695e-12]\n",
      "Done! Measured [6.9811170733e-12]\n",
      "Done! Measured [6.7202216014e-12]\n",
      "Done! Measured [6.7202172646e-12]\n",
      "Done! Measured [7.0375311481e-12]\n",
      "Done! Measured [6.8753466462e-12]\n",
      "Done! Measured [7.2561175818e-12]\n",
      "Done! Measured [6.6356043923e-12]\n",
      "Done! Measured [6.6708747901e-12]\n",
      "Done! Measured [6.3324050864e-12]\n",
      "Done! Measured [6.4663795152e-12]\n",
      "Done! Measured [6.9670129041e-12]\n",
      "Done! Measured [6.9740671571e-12]\n",
      "Done! Measured [6.58624804e-12]\n",
      "Done! Measured [6.9599577837e-12]\n",
      "Done! Measured [6.9388097698e-12]\n",
      "Done! Measured [6.8894542848e-12]\n",
      "Done! Measured [6.7695770864e-12]\n",
      "Done! Measured [6.4099697772e-12]\n",
      "Done! Measured [6.2407492368e-12]\n",
      "Done! Measured [6.8753501156e-12]\n",
      "Done! Measured [6.5086937576e-12]\n",
      "Done! Measured [6.7554841929e-12]\n",
      "Done! Measured [6.7695805558e-12]\n",
      "Done! Measured [7.7144410651e-12]\n",
      "Done! Measured [6.2407553084e-12]\n",
      "Done! Measured [6.8471443793e-12]\n",
      "Done! Measured [6.8894542848e-12]\n",
      "Done! Measured [6.8330410774e-12]\n",
      "Done! Measured [6.670872188e-12]\n",
      "Done! Measured [6.6215088967e-12]\n",
      "Done! Measured [6.58624804e-12]\n",
      "Done! Measured [6.7343370463e-12]\n",
      "Done! Measured [6.8400987999e-12]\n",
      "Done! Measured [6.8048370758e-12]\n",
      "Done! Measured [6.6356208722e-12]\n",
      "Done! Measured [6.7131768894e-12]\n",
      "Done! Measured [6.684971153e-12]\n",
      "Done! Measured [6.7272767218e-12]\n",
      "Done! Measured [6.8471452466e-12]\n",
      "Done! Measured [6.7061243711e-12]\n",
      "Done! Measured [6.6356182701e-12]\n",
      "Done! Measured [6.2336949838e-12]\n",
      "Done! Measured [6.1631784745e-12]\n",
      "Done! Measured [6.9176600212e-12]\n",
      "Done! Measured [6.3676694126e-12]\n",
      "Done! Measured [6.4804854191e-12]\n",
      "Done! Measured [6.9599707941e-12]\n",
      "Done! Measured [6.7907398454e-12]\n"
     ]
    }
   ],
   "source": [
    "smu.write(\"smu.measure.func = smu.FUNC_DC_CURRENT\")\n",
    "for index in range(100):\n",
    "    smu.write(f'smu.source.level = {index/100 + 1}')\n",
    "    smu.write('reading = smu.measure.read()')\n",
    "    measured_data = smu.query_ascii_values('print(reading)')\n",
    "    print(f'Done! Measured {measured_data}')"
   ]
  },
  {
   "cell_type": "code",
   "execution_count": null,
   "metadata": {},
   "outputs": [],
   "source": [
    "smu.write(\"smu.measure.func = smu.FUNC_DC_VOLTAGE\")\n",
    "for index in range(10):\n",
    "    smu.write(f'smu.source.level = {2 - index/5}')\n",
    "    smu.write('reading = smu.measure.read()')\n",
    "    measured_data = smu.query_ascii_values('print(reading)')"
   ]
  }
 ],
 "metadata": {
  "kernelspec": {
   "display_name": "base",
   "language": "python",
   "name": "python3"
  },
  "language_info": {
   "codemirror_mode": {
    "name": "ipython",
    "version": 3
   },
   "file_extension": ".py",
   "mimetype": "text/x-python",
   "name": "python",
   "nbconvert_exporter": "python",
   "pygments_lexer": "ipython3",
   "version": "3.11.5"
  }
 },
 "nbformat": 4,
 "nbformat_minor": 2
}
