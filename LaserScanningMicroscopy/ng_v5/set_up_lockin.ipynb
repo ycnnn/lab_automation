{
 "cells": [
  {
   "cell_type": "code",
   "execution_count": 1,
   "metadata": {},
   "outputs": [],
   "source": [
    "import numpy as np\n",
    "import matplotlib.pyplot as plt\n",
    "import time\n",
    "from daq_driver import playrec\n",
    "# from qcodes.instrument_drivers.stanford_research import SR860\n",
    "import pyvisa\n",
    "# lockin = SR860('lockin',\"USB0::0xB506::0x2000::002765::INSTR\")"
   ]
  },
  {
   "cell_type": "code",
   "execution_count": null,
   "metadata": {},
   "outputs": [],
   "source": []
  },
  {
   "cell_type": "code",
   "execution_count": 2,
   "metadata": {},
   "outputs": [],
   "source": [
    "def ttl():\n",
    "        ttl = 2.5*(1-np.arange(2880)%2).reshape(-1,1)\n",
    "        _ = playrec(data=ttl,\n",
    "                samplerate=256,\n",
    "                input_mapping=['Dev2/ai0'],\n",
    "                output_mapping=['Dev2/ao3'])\n"
   ]
  },
  {
   "cell_type": "code",
   "execution_count": 3,
   "metadata": {},
   "outputs": [
    {
     "data": {
      "text/plain": [
       "13"
      ]
     },
     "execution_count": 3,
     "metadata": {},
     "output_type": "execute_result"
    }
   ],
   "source": [
    "rm = pyvisa.ResourceManager()\n",
    "lockin = rm.open_resource('USB0::0xB506::0x2000::002765::INSTR')\n",
    "\n",
    "lockin.write('*rst')\n",
    "lockin.query('*idn?')\n",
    "lockin.write('capturelen 256')\n",
    "lockin.write('capturecfg xy')\n",
    "lockin.write('rtrg posttl')\n"
   ]
  },
  {
   "cell_type": "code",
   "execution_count": 4,
   "metadata": {},
   "outputs": [
    {
     "name": "stdout",
     "output_type": "stream",
     "text": [
      "3\n",
      "\n",
      "2\n",
      "\n"
     ]
    }
   ],
   "source": [
    "lockin.write('capturestart one, samp')\n",
    "print(lockin.query('capturestat?'))\n",
    "ttl()\n",
    "lockin.write('capturestop')\n",
    "print(lockin.query('capturestat?'))"
   ]
  },
  {
   "cell_type": "code",
   "execution_count": 5,
   "metadata": {},
   "outputs": [],
   "source": [
    "buffer_len = int(lockin.query('captureprog?')[:-1])"
   ]
  },
  {
   "cell_type": "code",
   "execution_count": 7,
   "metadata": {},
   "outputs": [],
   "source": [
    "data = np.array(lockin.query_binary_values(f'captureget? 0, {buffer_len}')).reshape(-1,2)"
   ]
  },
  {
   "cell_type": "code",
   "execution_count": 10,
   "metadata": {},
   "outputs": [
    {
     "data": {
      "text/plain": [
       "array([ 8.33227354e-09, -6.56264065e-09])"
      ]
     },
     "execution_count": 10,
     "metadata": {},
     "output_type": "execute_result"
    }
   ],
   "source": [
    "data[143]"
   ]
  },
  {
   "cell_type": "markdown",
   "metadata": {},
   "source": []
  },
  {
   "cell_type": "markdown",
   "metadata": {},
   "source": []
  }
 ],
 "metadata": {
  "kernelspec": {
   "display_name": "base",
   "language": "python",
   "name": "python3"
  },
  "language_info": {
   "codemirror_mode": {
    "name": "ipython",
    "version": 3
   },
   "file_extension": ".py",
   "mimetype": "text/x-python",
   "name": "python",
   "nbconvert_exporter": "python",
   "pygments_lexer": "ipython3",
   "version": "3.11.5"
  }
 },
 "nbformat": 4,
 "nbformat_minor": 2
}
