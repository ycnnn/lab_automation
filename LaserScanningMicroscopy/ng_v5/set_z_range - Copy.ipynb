{
 "cells": [
  {
   "cell_type": "code",
   "execution_count": 1,
   "metadata": {},
   "outputs": [],
   "source": [
    "from params.position_params import Position_parameters\n",
    "from params.scan_params import Scan_parameters\n",
    "from daq_driver import reset_daq, set_z_height, read_daq_output\n",
    "import json\n",
    "import numpy as np"
   ]
  },
  {
   "cell_type": "code",
   "execution_count": 2,
   "metadata": {},
   "outputs": [],
   "source": [
    "position_parameters = Position_parameters(\n",
    "                                            x_size=15,\n",
    "                                            y_size=15,\n",
    "                                            x_pixels=128,\n",
    "                                            y_pixels=100,\n",
    "                                            z_center=0)"
   ]
  },
  {
   "cell_type": "code",
   "execution_count": 7,
   "metadata": {},
   "outputs": [
    {
     "data": {
      "text/plain": [
       "array([0. , 3.5, 0. , 3.5, 0. , 3.5, 0. , 3.5, 0. , 3.5, 0. , 3.5, 0. ,\n",
       "       3.5, 0. , 3.5, 0. , 3.5, 0. , 3.5, 0. , 3.5, 0. , 3.5, 0. , 3.5,\n",
       "       0. , 3.5, 0. , 3.5, 0. , 3.5, 0. , 3.5, 0. , 3.5, 0. , 3.5, 0. ,\n",
       "       3.5, 0. , 3.5, 0. , 3.5, 0. , 3.5, 0. , 3.5, 0. , 3.5, 0. , 3.5,\n",
       "       0. , 3.5, 0. , 3.5, 0. , 3.5, 0. , 3.5, 0. , 3.5, 0. , 3.5, 0. ,\n",
       "       3.5, 0. , 3.5, 0. , 3.5, 0. , 3.5, 0. , 3.5, 0. , 3.5, 0. , 3.5,\n",
       "       0. , 3.5, 0. , 3.5, 0. , 3.5, 0. , 3.5, 0. , 3.5, 0. , 3.5, 0. ,\n",
       "       3.5, 0. , 3.5, 0. , 3.5, 0. , 3.5, 0. , 3.5, 0. , 3.5, 0. , 3.5,\n",
       "       0. , 3.5, 0. , 3.5, 0. , 3.5, 0. , 3.5, 0. , 3.5, 0. , 3.5, 0. ,\n",
       "       3.5, 0. , 3.5, 0. , 3.5, 0. , 3.5, 0. , 3.5, 0. , 3.5, 0. , 3.5,\n",
       "       0. , 3.5, 0. , 3.5, 0. , 3.5, 0. , 3.5, 0. , 3.5, 0. , 3.5, 0. ,\n",
       "       3.5, 0. , 3.5, 0. , 3.5, 0. , 3.5, 0. , 3.5, 0. , 3.5, 0. , 3.5,\n",
       "       0. , 3.5, 0. , 3.5, 0. , 3.5, 0. , 3.5, 0. , 3.5, 0. , 3.5, 0. ,\n",
       "       3.5, 0. , 3.5, 0. , 3.5, 0. , 3.5, 0. , 3.5, 0. , 3.5, 0. , 3.5,\n",
       "       0. , 3.5, 0. , 3.5, 0. , 3.5, 0. , 3.5, 0. , 3.5, 0. , 3.5, 0. ,\n",
       "       3.5, 0. , 3.5, 0. , 3.5, 0. , 3.5, 0. , 3.5, 0. , 3.5, 0. , 3.5,\n",
       "       0. , 3.5, 0. , 3.5, 0. , 3.5, 0. , 3.5, 0. , 3.5, 0. , 3.5, 0. ,\n",
       "       3.5, 0. , 3.5, 0. , 3.5, 0. , 3.5, 0. , 3.5, 0. , 3.5, 0. , 3.5,\n",
       "       0. , 3.5, 0. , 3.5, 0. , 3.5, 0. , 3.5, 0. , 3.5, 0. , 3.5, 0. ,\n",
       "       3.5, 0. , 3.5, 0. , 3.5, 0. , 3.5, 0. , 3.5])"
      ]
     },
     "execution_count": 7,
     "metadata": {},
     "output_type": "execute_result"
    }
   ],
   "source": [
    "position_parameters.ttl[0]"
   ]
  },
  {
   "cell_type": "code",
   "execution_count": null,
   "metadata": {},
   "outputs": [],
   "source": []
  }
 ],
 "metadata": {
  "kernelspec": {
   "display_name": "base",
   "language": "python",
   "name": "python3"
  },
  "language_info": {
   "codemirror_mode": {
    "name": "ipython",
    "version": 3
   },
   "file_extension": ".py",
   "mimetype": "text/x-python",
   "name": "python",
   "nbconvert_exporter": "python",
   "pygments_lexer": "ipython3",
   "version": "3.11.5"
  }
 },
 "nbformat": 4,
 "nbformat_minor": 2
}
