{
 "cells": [
  {
   "cell_type": "code",
   "execution_count": 1,
   "metadata": {},
   "outputs": [],
   "source": [
    "from scan_2_in_3_out import scan\n",
    "from scan_2_in_3_out import params\n",
    "# from write_control import position_parsameters\n",
    "from write_control import sweep_xy\n",
    "from time import time\n",
    "import matplotlib.pyplot as plt\n",
    "import numpy as np\n",
    "from SRS import set_lockin_ready\n",
    "import qcodes as qc"
   ]
  },
  {
   "cell_type": "code",
   "execution_count": 2,
   "metadata": {},
   "outputs": [
    {
     "name": "stdout",
     "output_type": "stream",
     "text": [
      "Connected to: Stanford_Research_Systems SR865 (serial:002765, firmware:v1.51) in 0.08s\n"
     ]
    }
   ],
   "source": [
    "\n",
    "parameters = params(auto_scale=True,\n",
    "                ch1_v_min=-9.9,\n",
    "                ch1_v_max=9.9,\n",
    "                ch2_v_min=-0.1,\n",
    "                ch2_v_max=0.1,\n",
    "                ch3_v_min=-2,\n",
    "                ch3_v_max=2,\n",
    "                pixels=128,\n",
    "                frequency=20,\n",
    "                dark_mode= True,\n",
    "                colormap='bwr',\n",
    "                x_center=60,\n",
    "                y_center=90,\n",
    "                x_size=30,\n",
    "                y_size=30,\n",
    "                angle=15,\n",
    "                scan_id=f'Device2_no_bias_',\n",
    "                xy_scan=False,\n",
    "                theta_start=-3,\n",
    "                theta_end=3\n",
    "                )\n",
    "close_window = True \n",
    "data = scan(parameters,close=close_window)\n",
    "\n",
    "initial_time = time()"
   ]
  }
 ],
 "metadata": {
  "kernelspec": {
   "display_name": "base",
   "language": "python",
   "name": "python3"
  },
  "language_info": {
   "codemirror_mode": {
    "name": "ipython",
    "version": 3
   },
   "file_extension": ".py",
   "mimetype": "text/x-python",
   "name": "python",
   "nbconvert_exporter": "python",
   "pygments_lexer": "ipython3",
   "version": "3.11.5"
  }
 },
 "nbformat": 4,
 "nbformat_minor": 2
}
