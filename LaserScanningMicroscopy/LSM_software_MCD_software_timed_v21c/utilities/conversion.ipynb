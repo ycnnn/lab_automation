{
 "cells": [
  {
   "cell_type": "code",
   "execution_count": null,
   "metadata": {},
   "outputs": [],
   "source": [
    "import numpy as np\n",
    "\n",
    "def time_constant_conversion(input_value, code_to_analog=True):\n",
    "    # Conversion table (time code -> time duration)\n",
    "    time_table = {\n",
    "        0: 1e-6,    # 1us\n",
    "        1: 3e-6,    # 3us\n",
    "        2: 10e-6,   # 10us\n",
    "        3: 30e-6,   # 30us\n",
    "        4: 100e-6,  # 100us\n",
    "        5: 300e-6,  # 300us\n",
    "        6: 1e-3,    # 1ms\n",
    "        7: 3e-3,    # 3ms\n",
    "        8: 10e-3,   # 10ms\n",
    "        9: 30e-3,   # 30ms\n",
    "        10: 100e-3, # 100ms\n",
    "        11: 300e-3, # 300ms\n",
    "        12: 1,      # 1s\n",
    "        13: 3,      # 3s\n",
    "        14: 10,     # 10s\n",
    "        15: 30,     # 30s\n",
    "        16: 100,    # 100s\n",
    "        17: 300,    # 300s\n",
    "        18: 1000,   # 1000s\n",
    "        19: 3000,   # 3000s\n",
    "        20: 10000,  # 10000s\n",
    "    }\n",
    "\n",
    "    # Convert from time code to time (seconds)\n",
    "    if code_to_analog:\n",
    "        if isinstance(input_value, int) and 0 <= input_value <= 20:\n",
    "            return time_table[input_value]\n",
    "        else:\n",
    "            raise ValueError(\"Invalid time code. Must be an integer between 0 and 20.\")\n",
    "\n",
    "    # Convert from time to time code\n",
    "    else:\n",
    "        if isinstance(input_value, (int, float)) and input_value > 0:\n",
    "            # Find the closest time code that fits\n",
    "            for code in range(20, -1, -1):  # Start from the largest value\n",
    "                if input_value >= time_table[code] * 0.9998:\n",
    "                    return code\n",
    "            return 0  # If input_value is less than the smallest time code (1us)\n",
    "        else:\n",
    "            raise ValueError(\"Invalid time value. Must be a positive number.\")\n",
    "\n",
    "\n",
    "def sensitivity_conversion(input_value, code_to_analog=True):\n",
    "    # Conversion table (voltage code -> voltage value in Volts)\n",
    "    voltage_table = {\n",
    "        0: 1.0,           # 1V\n",
    "        1: 0.5,           # 500mV\n",
    "        2: 0.2,           # 200mV\n",
    "        3: 0.1,           # 100mV\n",
    "        4: 0.05,          # 50mV\n",
    "        5: 0.02,          # 20mV\n",
    "        6: 0.01,          # 10mV\n",
    "        7: 0.005,         # 5mV\n",
    "        8: 0.002,         # 2mV\n",
    "        9: 0.001,         # 1mV\n",
    "        10: 0.0005,       # 500µV\n",
    "        11: 0.0002,       # 200µV\n",
    "        12: 0.0001,       # 100µV\n",
    "        13: 0.00005,      # 50µV\n",
    "        14: 0.00002,      # 20µV\n",
    "    }\n",
    "\n",
    "    # Convert from voltage code to voltage (in Volts)\n",
    "    if code_to_analog:\n",
    "        if isinstance(input_value, int) and 0 <= input_value <= 14:\n",
    "            return voltage_table[input_value]\n",
    "        else:\n",
    "            raise ValueError(\"Invalid voltage code. Must be an integer between 0 and 14.\")\n",
    "\n",
    "    # Convert from voltage to voltage code\n",
    "    else:\n",
    "        if isinstance(input_value, (int, float)) and input_value > 0:\n",
    "            # Find the smallest voltage code that is >= input voltage\n",
    "            for code in range(14, -1, -1):  # Start from the largest value\n",
    "                if input_value <= voltage_table[code]:\n",
    "                    return code\n",
    "            return 0  # If input_value is less than the smallest voltage (20µV)\n",
    "        else:\n",
    "            raise ValueError(\"Invalid voltage value. Must be a positive number.\")\n",
    "\n",
    "\n",
    "\n",
    "def input_range_conversion(input_value, code_to_analog=True):\n",
    "    # Conversion table (voltage code -> voltage value in Volts)\n",
    "    voltage_table = {\n",
    "        0: 1.0,        # 1V\n",
    "        1: 0.3,        # 300mV\n",
    "        2: 0.1,        # 100mV\n",
    "        3: 0.03,       # 30mV\n",
    "        4: 0.01,       # 10mV\n",
    "    }\n",
    "\n",
    "    # Convert from voltage code to voltage (in Volts)\n",
    "    if code_to_analog:\n",
    "        if isinstance(input_value, int) and 0 <= input_value <= 4:\n",
    "            return voltage_table[input_value]\n",
    "        else:\n",
    "            raise ValueError(\"Invalid voltage code. Must be an integer between 0 and 4.\")\n",
    "\n",
    "    # Convert from voltage to voltage code\n",
    "    else:\n",
    "        if isinstance(input_value, (int, float)) and input_value > 0:\n",
    "            # Find the largest voltage code that is <= input voltage\n",
    "            for code in range(4, -1, -1):  # Start from the largest value\n",
    "                if input_value <= voltage_table[code]:\n",
    "                    return code\n",
    "            return 0  # If input_value is less than the smallest voltage (10mV)\n",
    "        else:\n",
    "            raise ValueError(\"Invalid voltage value. Must be a positive number.\")\n",
    "\n"
   ]
  },
  {
   "cell_type": "code",
   "execution_count": null,
   "metadata": {},
   "outputs": [],
   "source": []
  },
  {
   "cell_type": "code",
   "execution_count": 4,
   "metadata": {},
   "outputs": [],
   "source": [
    "def check_code(func, length):\n",
    "    for index in range(length):\n",
    "        print(f'Index {index}:', str(func(index, code_to_analog=True)))\n",
    "\n",
    "def check_analog(func, analog):\n",
    "    converted = func(analog, code_to_analog=False)\n",
    "    reverse_analog = func(converted,  code_to_analog=True)\n",
    "    print(f'Converted {analog} to level {converted} -> analog {reverse_analog}')"
   ]
  },
  {
   "cell_type": "code",
   "execution_count": 5,
   "metadata": {},
   "outputs": [
    {
     "name": "stdout",
     "output_type": "stream",
     "text": [
      "Index 0: 1e-06\n",
      "Index 1: 3e-06\n",
      "Index 2: 1e-05\n",
      "Index 3: 3e-05\n",
      "Index 4: 0.0001\n",
      "Index 5: 0.0003\n",
      "Index 6: 0.001\n",
      "Index 7: 0.003\n",
      "Index 8: 0.01\n",
      "Index 9: 0.03\n",
      "Index 10: 0.1\n",
      "Index 11: 0.3\n",
      "Index 12: 1\n",
      "Index 13: 3\n",
      "Index 14: 10\n",
      "Index 15: 30\n",
      "Index 16: 100\n",
      "Index 17: 300\n",
      "Index 18: 1000\n",
      "Index 19: 3000\n",
      "Index 20: 10000\n"
     ]
    }
   ],
   "source": [
    "check_code(time_constant_conversion,21)"
   ]
  },
  {
   "cell_type": "code",
   "execution_count": 6,
   "metadata": {},
   "outputs": [
    {
     "name": "stdout",
     "output_type": "stream",
     "text": [
      "Index 0: 1.0\n",
      "Index 1: 0.5\n",
      "Index 2: 0.2\n",
      "Index 3: 0.1\n",
      "Index 4: 0.05\n",
      "Index 5: 0.02\n",
      "Index 6: 0.01\n",
      "Index 7: 0.005\n",
      "Index 8: 0.002\n",
      "Index 9: 0.001\n",
      "Index 10: 0.0005\n",
      "Index 11: 0.0002\n",
      "Index 12: 0.0001\n",
      "Index 13: 5e-05\n",
      "Index 14: 2e-05\n"
     ]
    }
   ],
   "source": [
    "check_code(sensitivity_conversion,15)"
   ]
  },
  {
   "cell_type": "code",
   "execution_count": 7,
   "metadata": {},
   "outputs": [
    {
     "name": "stdout",
     "output_type": "stream",
     "text": [
      "Index 0: 1.0\n",
      "Index 1: 0.3\n",
      "Index 2: 0.1\n",
      "Index 3: 0.03\n",
      "Index 4: 0.01\n"
     ]
    }
   ],
   "source": [
    "check_code(input_range_conversion,5)"
   ]
  },
  {
   "cell_type": "code",
   "execution_count": 14,
   "metadata": {},
   "outputs": [
    {
     "name": "stdout",
     "output_type": "stream",
     "text": [
      "Converted 0.0001 to level 4 -> analog 0.0001\n"
     ]
    }
   ],
   "source": [
    "check_analog(time_constant_conversion,10e-5)"
   ]
  },
  {
   "cell_type": "code",
   "execution_count": 22,
   "metadata": {},
   "outputs": [
    {
     "name": "stdout",
     "output_type": "stream",
     "text": [
      "Converted 0.4 to level 1 -> analog 0.5\n"
     ]
    }
   ],
   "source": [
    "check_analog(sensitivity_conversion,0.4)"
   ]
  },
  {
   "cell_type": "code",
   "execution_count": 24,
   "metadata": {},
   "outputs": [
    {
     "name": "stdout",
     "output_type": "stream",
     "text": [
      "Converted 0.04 to level 2 -> analog 0.1\n"
     ]
    }
   ],
   "source": [
    "check_analog(input_range_conversion,40e-3)"
   ]
  },
  {
   "cell_type": "code",
   "execution_count": null,
   "metadata": {},
   "outputs": [],
   "source": []
  }
 ],
 "metadata": {
  "kernelspec": {
   "display_name": "base",
   "language": "python",
   "name": "python3"
  },
  "language_info": {
   "codemirror_mode": {
    "name": "ipython",
    "version": 3
   },
   "file_extension": ".py",
   "mimetype": "text/x-python",
   "name": "python",
   "nbconvert_exporter": "python",
   "pygments_lexer": "ipython3",
   "version": "3.11.8"
  }
 },
 "nbformat": 4,
 "nbformat_minor": 2
}
