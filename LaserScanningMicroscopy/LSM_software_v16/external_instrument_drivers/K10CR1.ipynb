{
 "cells": [
  {
   "cell_type": "code",
   "execution_count": 1,
   "metadata": {},
   "outputs": [],
   "source": [
    "from K10CR1 import K10CR1_stage"
   ]
  },
  {
   "cell_type": "code",
   "execution_count": 2,
   "metadata": {},
   "outputs": [
    {
     "name": "stdout",
     "output_type": "stream",
     "text": [
      "K10CR1 Rotational Stage\n"
     ]
    }
   ],
   "source": [
    "stage = K10CR1_stage()\n",
    "stage.initialize_instrument()"
   ]
  },
  {
   "cell_type": "code",
   "execution_count": 3,
   "metadata": {},
   "outputs": [
    {
     "name": "stdout",
     "output_type": "stream",
     "text": [
      "Homing the rotation stage of SN:  55425494\n",
      "The system is at home position. This position will be referred as 0 degree.\n"
     ]
    }
   ],
   "source": [
    "stage.home_device()"
   ]
  },
  {
   "cell_type": "code",
   "execution_count": 4,
   "metadata": {},
   "outputs": [
    {
     "name": "stdout",
     "output_type": "stream",
     "text": [
      "Moving the rotation stage of SN: 55425494 to 30 degrees\n",
      "Movement finished.\n"
     ]
    }
   ],
   "source": [
    "stage.move(30)"
   ]
  },
  {
   "cell_type": "code",
   "execution_count": 5,
   "metadata": {},
   "outputs": [
    {
     "name": "stdout",
     "output_type": "stream",
     "text": [
      "Homing the rotation stage of SN:  55425494\n",
      "The system is at home position. This position will be referred as 0 degree.\n",
      "Disconnectd the rotation stage of SN: 55425494\n"
     ]
    }
   ],
   "source": [
    "stage.quit()"
   ]
  }
 ],
 "metadata": {
  "kernelspec": {
   "display_name": "base",
   "language": "python",
   "name": "python3"
  },
  "language_info": {
   "codemirror_mode": {
    "name": "ipython",
    "version": 3
   },
   "file_extension": ".py",
   "mimetype": "text/x-python",
   "name": "python",
   "nbconvert_exporter": "python",
   "pygments_lexer": "ipython3",
   "version": "3.11.5"
  }
 },
 "nbformat": 4,
 "nbformat_minor": 2
}
