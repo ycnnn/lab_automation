{
 "cells": [
  {
   "cell_type": "code",
   "execution_count": 1,
   "metadata": {},
   "outputs": [],
   "source": [
    "from params.position_params import Position_parameters\n",
    "from params.scan_params import Scan_parameters\n",
    "from daq_driver import reset_daq, set_z_height\n",
    "import json\n",
    "import numpy as np"
   ]
  },
  {
   "cell_type": "code",
   "execution_count": 2,
   "metadata": {},
   "outputs": [
    {
     "data": {
      "text/plain": [
       "array([-0.00023693, -0.00023693, -0.00023693,  0.00042062])"
      ]
     },
     "execution_count": 2,
     "metadata": {},
     "output_type": "execute_result"
    }
   ],
   "source": [
    "scan_parameters = Scan_parameters(frequency=100, \n",
    "                                      input_mapping=[\"ai0\",\"ai1\",\"ai2\",'ai3'])\n",
    "reset_daq(scan_parameters)"
   ]
  },
  {
   "cell_type": "code",
   "execution_count": 7,
   "metadata": {},
   "outputs": [],
   "source": [
    "position_parameters = Position_parameters(\n",
    "                                            x_size=15,\n",
    "                                            y_size=15,\n",
    "                                            x_pixels=256,\n",
    "                                            y_pixels=255,\n",
    "                                            x_origin=10,\n",
    "                                            y_origin=10,\n",
    "                                            z_height=18)\n",
    "set_z_height(scan_parameters, position_parameters)"
   ]
  },
  {
   "cell_type": "code",
   "execution_count": null,
   "metadata": {},
   "outputs": [],
   "source": []
  }
 ],
 "metadata": {
  "kernelspec": {
   "display_name": "base",
   "language": "python",
   "name": "python3"
  },
  "language_info": {
   "codemirror_mode": {
    "name": "ipython",
    "version": 3
   },
   "file_extension": ".py",
   "mimetype": "text/x-python",
   "name": "python",
   "nbconvert_exporter": "python",
   "pygments_lexer": "ipython3",
   "version": "3.11.5"
  }
 },
 "nbformat": 4,
 "nbformat_minor": 2
}
