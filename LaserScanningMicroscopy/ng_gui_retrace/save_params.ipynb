{
 "cells": [
  {
   "cell_type": "code",
   "execution_count": 1,
   "metadata": {},
   "outputs": [],
   "source": [
    "from params.position_params import Position_parameters\n",
    "import json\n",
    "import numpy as np"
   ]
  },
  {
   "cell_type": "code",
   "execution_count": 2,
   "metadata": {},
   "outputs": [],
   "source": [
    "input = Position_parameters(x_pixels=63, y_pixels=139)"
   ]
  },
  {
   "cell_type": "code",
   "execution_count": 11,
   "metadata": {},
   "outputs": [
    {
     "data": {
      "text/plain": [
       "array([0. , 3.5, 0. , 3.5, 0. , 3.5, 0. , 3.5, 0. , 3.5, 0. , 3.5, 0. ,\n",
       "       3.5, 0. , 3.5, 0. , 3.5, 0. , 3.5, 0. , 3.5, 0. , 3.5, 0. , 3.5,\n",
       "       0. , 3.5, 0. , 3.5, 0. , 3.5, 0. , 3.5, 0. , 3.5, 0. , 3.5, 0. ,\n",
       "       3.5, 0. , 3.5, 0. , 3.5, 0. , 3.5, 0. , 3.5, 0. , 3.5, 0. , 3.5,\n",
       "       0. , 3.5, 0. , 3.5, 0. , 3.5, 0. , 3.5, 0. , 3.5, 0. , 3.5, 0. ,\n",
       "       3.5, 0. , 3.5, 0. , 3.5, 0. , 3.5, 0. , 3.5, 0. , 3.5, 0. , 3.5,\n",
       "       0. , 3.5, 0. , 3.5, 0. , 3.5, 0. , 3.5, 0. , 3.5, 0. , 3.5, 0. ,\n",
       "       3.5, 0. , 3.5, 0. , 3.5, 0. , 3.5, 0. , 3.5, 0. , 3.5, 0. , 3.5,\n",
       "       0. , 3.5, 0. , 3.5, 0. , 3.5, 0. , 3.5, 0. , 3.5, 0. , 3.5, 0. ,\n",
       "       3.5, 0. , 3.5, 0. , 3.5, 0. , 3.5, 0. , 3.5])"
      ]
     },
     "execution_count": 11,
     "metadata": {},
     "output_type": "execute_result"
    }
   ],
   "source": [
    "input.ttl[2]"
   ]
  },
  {
   "cell_type": "code",
   "execution_count": null,
   "metadata": {},
   "outputs": [],
   "source": []
  }
 ],
 "metadata": {
  "kernelspec": {
   "display_name": "base",
   "language": "python",
   "name": "python3"
  },
  "language_info": {
   "codemirror_mode": {
    "name": "ipython",
    "version": 3
   },
   "file_extension": ".py",
   "mimetype": "text/x-python",
   "name": "python",
   "nbconvert_exporter": "python",
   "pygments_lexer": "ipython3",
   "version": "3.11.8"
  }
 },
 "nbformat": 4,
 "nbformat_minor": 2
}
