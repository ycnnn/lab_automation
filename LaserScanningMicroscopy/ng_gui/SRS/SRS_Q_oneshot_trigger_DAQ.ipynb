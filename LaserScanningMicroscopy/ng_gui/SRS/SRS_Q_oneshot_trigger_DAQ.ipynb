{
 "cells": [
  {
   "cell_type": "code",
   "execution_count": 1,
   "metadata": {},
   "outputs": [
    {
     "name": "stdout",
     "output_type": "stream",
     "text": [
      "Connected to: Stanford_Research_Systems SR865 (serial:002765, firmware:v1.51) in 0.08s\n"
     ]
    }
   ],
   "source": [
    "import numpy as np\n",
    "import matplotlib.pyplot as plt\n",
    "import time\n",
    "from daq import query_devices, playrec\n",
    "from qcodes.instrument_drivers.stanford_research import SR860\n",
    "\n",
    "lockin = SR860('lockin',\"USB0::0xB506::0x2000::002765::INSTR\")"
   ]
  },
  {
   "cell_type": "code",
   "execution_count": 2,
   "metadata": {},
   "outputs": [],
   "source": [
    "lockin.input_config('a')\n",
    "lockin.buffer.capture_config('X,Y')\n",
    "# lockin.buffer.set_capture_rate_to_maximum()\n",
    "lockin.buffer.capture_rate(305)\n",
    "sample_count = 150\n",
    "lockin.buffer.set_capture_length_to_fit_samples(sample_count)"
   ]
  },
  {
   "cell_type": "code",
   "execution_count": 3,
   "metadata": {},
   "outputs": [
    {
     "name": "stdout",
     "output_type": "stream",
     "text": [
      "Device Name: Dev1, Product Type: USB-6343 (BNC)\n",
      "Input channels: ['Dev1/ai0', 'Dev1/ai1', 'Dev1/ai2', 'Dev1/ai3', 'Dev1/ai4', 'Dev1/ai5', 'Dev1/ai6', 'Dev1/ai7', 'Dev1/ai8', 'Dev1/ai9', 'Dev1/ai10', 'Dev1/ai11', 'Dev1/ai12', 'Dev1/ai13', 'Dev1/ai14', 'Dev1/ai15', 'Dev1/ai16', 'Dev1/ai17', 'Dev1/ai18', 'Dev1/ai19', 'Dev1/ai20', 'Dev1/ai21', 'Dev1/ai22', 'Dev1/ai23', 'Dev1/ai24', 'Dev1/ai25', 'Dev1/ai26', 'Dev1/ai27', 'Dev1/ai28', 'Dev1/ai29', 'Dev1/ai30', 'Dev1/ai31']\n",
      "Output channels: ['Dev1/ao0', 'Dev1/ao1', 'Dev1/ao2', 'Dev1/ao3']\n"
     ]
    }
   ],
   "source": [
    "query_devices()"
   ]
  },
  {
   "cell_type": "code",
   "execution_count": 25,
   "metadata": {},
   "outputs": [],
   "source": [
    "ttl = 2.5*(1-np.arange(128)%2).reshape(-1,1)"
   ]
  },
  {
   "cell_type": "code",
   "execution_count": 5,
   "metadata": {},
   "outputs": [],
   "source": [
    "lockin.buffer.start_capture('ONE','SAMP')\n",
    "# lockin.buffer.wait_until_samples_captured(sample_count)\n",
    "######################################\n",
    "_ = playrec(data=ttl,\n",
    "        samplerate=32,\n",
    "        input_mapping=['Dev1/ai0'],\n",
    "        output_mapping=['Dev1/ao3'])\n",
    "######################################\n",
    "lockin.buffer.stop_capture()"
   ]
  },
  {
   "cell_type": "code",
   "execution_count": 6,
   "metadata": {},
   "outputs": [],
   "source": [
    "x_data = np.array(lockin.buffer.get_capture_data(sample_count)['X'])\n",
    "y_data = np.array(lockin.buffer.get_capture_data(sample_count)['Y'])"
   ]
  },
  {
   "cell_type": "code",
   "execution_count": 7,
   "metadata": {},
   "outputs": [
    {
     "data": {
      "text/plain": [
       "(64,)"
      ]
     },
     "execution_count": 7,
     "metadata": {},
     "output_type": "execute_result"
    }
   ],
   "source": [
    "y_data.shape"
   ]
  },
  {
   "cell_type": "code",
   "execution_count": 8,
   "metadata": {},
   "outputs": [
    {
     "data": {
      "text/plain": [
       "(2, 64)"
      ]
     },
     "execution_count": 8,
     "metadata": {},
     "output_type": "execute_result"
    }
   ],
   "source": [
    "np.array([x_data, y_data]).shape"
   ]
  },
  {
   "cell_type": "code",
   "execution_count": 29,
   "metadata": {},
   "outputs": [
    {
     "data": {
      "text/plain": [
       "[<matplotlib.lines.Line2D at 0x19442574490>]"
      ]
     },
     "execution_count": 29,
     "metadata": {},
     "output_type": "execute_result"
    },
    {
     "data": {
      "image/png": "[encoded data removed]",
      "text/plain": [
       "<Figure size 640x480 with 1 Axes>"
      ]
     },
     "metadata": {},
     "output_type": "display_data"
    }
   ],
   "source": [
    "plt.plot(ttl[-5:])"
   ]
  },
  {
   "cell_type": "code",
   "execution_count": 30,
   "metadata": {},
   "outputs": [],
   "source": [
    "doubled = (np.repeat((np.arange(65)).reshape(-1,1), repeats=2, axis=0).reshape(-1))"
   ]
  },
  {
   "cell_type": "code",
   "execution_count": 38,
   "metadata": {},
   "outputs": [
    {
     "data": {
      "text/plain": [
       "array([ 0.,  1.,  2.,  3.,  4.,  5.,  6.,  7.,  8.,  9., 10., 11., 12.,\n",
       "       13., 14., 15., 16., 17., 18., 19., 20., 21., 22., 23., 24., 25.,\n",
       "       26., 27., 28., 29., 30., 31., 32., 33., 34., 35., 36., 37., 38.,\n",
       "       39., 40., 41., 42., 43., 44., 45., 46., 47., 48., 49., 50., 51.,\n",
       "       52., 53., 54., 55., 56., 57., 58., 59., 60., 61., 62., 63., 64.])"
      ]
     },
     "execution_count": 38,
     "metadata": {},
     "output_type": "execute_result"
    }
   ],
   "source": [
    "np.mean(doubled.reshape(-1,2), axis=1)"
   ]
  },
  {
   "cell_type": "code",
   "execution_count": null,
   "metadata": {},
   "outputs": [],
   "source": []
  }
 ],
 "metadata": {
  "kernelspec": {
   "display_name": "base",
   "language": "python",
   "name": "python3"
  },
  "language_info": {
   "codemirror_mode": {
    "name": "ipython",
    "version": 3
   },
   "file_extension": ".py",
   "mimetype": "text/x-python",
   "name": "python",
   "nbconvert_exporter": "python",
   "pygments_lexer": "ipython3",
   "version": "3.11.5"
  }
 },
 "nbformat": 4,
 "nbformat_minor": 2
}
