{
 "cells": [
  {
   "cell_type": "code",
   "execution_count": 1,
   "metadata": {},
   "outputs": [],
   "source": [
    "import sys\n",
    "import time\n",
    "from PySide6.QtWidgets import QMainWindow, QApplication, QWidget, QVBoxLayout, QGridLayout, QLabel\n",
    "from PySide6 import QtCore\n",
    "import numpy as np\n",
    "import pyqtgraph as pg\n",
    "\n",
    "\n",
    "class MainWindow(QMainWindow):\n",
    "    def __init__(self):\n",
    "        super().__init__()\n",
    "        self.setWindowTitle('Qt test')\n",
    "        self.resize(900,300)\n",
    "\n",
    "        self.main_widget = QWidget()\n",
    "        self.setCentralWidget(self.main_widget)\n",
    "        self.layout = QGridLayout(self.main_widget)\n",
    "        self.layout.setContentsMargins(10,10,10,10) \n",
    "\n",
    "        # self.X = np.arange(256)\n",
    "        # self.Y = np.zeros(shape=(3,2,256))\n",
    "        self.Y = np.random.normal(size=(3,2,256))\n",
    "\n",
    "        self.widgets = []\n",
    "        self.plots = []\n",
    "        for row in range(3):\n",
    "            row_widgets = []\n",
    "            plots = []\n",
    "            for col in range(2):\n",
    "\n",
    "                # widget = QWidget()\n",
    "                widget = pg.PlotWidget()\n",
    "                plot = widget.plot(self.Y[row,col])\n",
    "                widget.setMouseEnabled(x=False, y=False)\n",
    "                widget.setStyleSheet(\"background-color: grey;\")\n",
    "                widget.setFixedSize(280,280)\n",
    "                self.layout.addWidget(widget, col, row)\n",
    "                row_widgets.append(widget)\n",
    "                plots.append(plot)\n",
    "\n",
    "            self.widgets.append(row_widgets)\n",
    "            self.plots.append(plots)\n",
    "      \n",
    "        #### Start  #####################\n",
    "        self.counter = 0\n",
    "        self._update()\n",
    "        self.start_time = time.time()\n",
    "\n",
    "    def _update(self):\n",
    "        # return\n",
    "        # time.sleep(1)\n",
    "        self.Y = np.random.normal(size=(3,2,256))\n",
    "        for row in range(3):\n",
    "            for col in range(2):\n",
    "                self.plots[row][col].setData(self.Y[row, col])\n",
    "\n",
    "        QtCore.QTimer.singleShot(1, self._update)\n",
    "        self.counter += 1\n",
    "        if self.counter % 180 == 0:\n",
    "            print(self.counter/(time.time() - self.start_time))\n",
    "            # self.close()"
   ]
  },
  {
   "cell_type": "code",
   "execution_count": 2,
   "metadata": {},
   "outputs": [
    {
     "ename": "SystemExit",
     "evalue": "0",
     "output_type": "error",
     "traceback": [
      "An exception has occurred, use %tb to see the full traceback.\n",
      "\u001b[0;31mSystemExit\u001b[0m\u001b[0;31m:\u001b[0m 0\n"
     ]
    },
    {
     "name": "stderr",
     "output_type": "stream",
     "text": [
      "/opt/anaconda3/lib/python3.11/site-packages/IPython/core/interactiveshell.py:3561: UserWarning: To exit: use 'exit', 'quit', or Ctrl-D.\n",
      "  warn(\"To exit: use 'exit', 'quit', or Ctrl-D.\", stacklevel=1)\n"
     ]
    }
   ],
   "source": [
    "app = QApplication(sys.argv)\n",
    "window = MainWindow()\n",
    "window.show()\n",
    "sys.exit(app.exec())"
   ]
  }
 ],
 "metadata": {
  "kernelspec": {
   "display_name": "base",
   "language": "python",
   "name": "python3"
  },
  "language_info": {
   "codemirror_mode": {
    "name": "ipython",
    "version": 3
   },
   "file_extension": ".py",
   "mimetype": "text/x-python",
   "name": "python",
   "nbconvert_exporter": "python",
   "pygments_lexer": "ipython3",
   "version": "3.11.8"
  }
 },
 "nbformat": 4,
 "nbformat_minor": 2
}
