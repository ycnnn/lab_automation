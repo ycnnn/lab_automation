{
 "cells": [
  {
   "cell_type": "code",
   "execution_count": 3,
   "metadata": {},
   "outputs": [],
   "source": [
    "import os\n",
    "import numpy as np\n",
    "from scipy.optimize import root_scalar, minimize\n",
    "# parentdir = os.path.dirname(os.path.dirname(os.path.abspath(__file__)))\n",
    "# os.sys.path.insert(0,parentdir) \n",
    "\n",
    "# from external_instrument_drivers.K10CR1 import K10CR1_stage"
   ]
  },
  {
   "cell_type": "code",
   "execution_count": null,
   "metadata": {},
   "outputs": [],
   "source": [
    "def read_detector(detector, rotator, angle):\n",
    "    rotator.move(angle)\n",
    "    value = detector.read()\n",
    "    return np.abs(value)"
   ]
  },
  {
   "cell_type": "code",
   "execution_count": null,
   "metadata": {},
   "outputs": [],
   "source": [
    "polarizer = K10CR1_stage(serial_no=55425494)\n",
    "polarizer.initialize_instrument()\n",
    "polarizer.home_device()\n",
    "\n",
    "HWP = K10CR1_stage(serial_no=55425494)\n",
    "HWP.initialize_instrument()\n",
    "HWP.home_device()\n",
    "\n",
    "HWP_angles = []\n",
    "\n",
    "initial_guess = 0"
   ]
  },
  {
   "cell_type": "code",
   "execution_count": 9,
   "metadata": {},
   "outputs": [],
   "source": [
    "guess = initial_guess\n",
    "for angle in np.linspace(0,360, num=361):\n",
    "    polarizer.move(angle)\n",
    "    zero_angle = minimize(read_detector, guess)\n",
    "    HWP_angles.append(zero_angle)\n",
    "    guess = zero_angle"
   ]
  },
  {
   "cell_type": "code",
   "execution_count": null,
   "metadata": {},
   "outputs": [],
   "source": []
  }
 ],
 "metadata": {
  "kernelspec": {
   "display_name": "base",
   "language": "python",
   "name": "python3"
  },
  "language_info": {
   "codemirror_mode": {
    "name": "ipython",
    "version": 3
   },
   "file_extension": ".py",
   "mimetype": "text/x-python",
   "name": "python",
   "nbconvert_exporter": "python",
   "pygments_lexer": "ipython3",
   "version": "3.11.8"
  }
 },
 "nbformat": 4,
 "nbformat_minor": 2
}
