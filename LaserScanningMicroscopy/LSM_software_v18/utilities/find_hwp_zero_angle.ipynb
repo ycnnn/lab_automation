{
 "cells": [
  {
   "cell_type": "code",
   "execution_count": 1,
   "metadata": {},
   "outputs": [],
   "source": [
    "from functools import partial\n",
    "import numpy as np\n",
    "from scipy.optimize import root_scalar, minimize, newton, root_scalar, brentq, basinhopping\n",
    "import nidaqmx as ni\n",
    "from K10CR1 import K10CR1_stage\n",
    "import matplotlib.pyplot as plt\n",
    "import pyvisa as pv\n",
    "from tqdm import tqdm\n",
    "import time\n",
    "\n",
    "def read(DAQ_name='Dev2', verbose=False, nsamples=1000):\n",
    "\n",
    "    with ni.Task() as read_task:\n",
    "        \n",
    "        read_task.ai_channels.add_ai_voltage_chan(DAQ_name + \"/ai4\",\n",
    "                                    min_val=-10, max_val=10)\n",
    "        result = np.mean(np.array(read_task.read(nsamples)))\n",
    "    if verbose:\n",
    "        print(result)\n",
    "    return result"
   ]
  },
  {
   "cell_type": "code",
   "execution_count": 2,
   "metadata": {},
   "outputs": [
    {
     "name": "stdout",
     "output_type": "stream",
     "text": [
      "Important: make sure you are not running Kinesis software in the meantime. \n",
      "Otherwise the initialization will fail.\n",
      "Important: make sure you are not running Kinesis software in the meantime. \n",
      "Otherwise the initialization will fail.\n",
      "Important: make sure you are not running Kinesis software in the meantime. \n",
      "Otherwise the initialization will fail.\n"
     ]
    }
   ],
   "source": [
    "rm = pv.ResourceManager()\n",
    "Laser = rm.open_resource('USB0::0x1313::0x804F::M00332686::INSTR')\n",
    "Laser.write(f\"source1:current:level:amplitude 0.08\")\n",
    "\n",
    "\n",
    "hwp = K10CR1_stage(serial_no=55422054, verbose=False)\n",
    "hwp.initialize_instrument()\n",
    "hwp.home()\n",
    "qwp = K10CR1_stage(serial_no=55425654, verbose=False)\n",
    "qwp.initialize_instrument()\n",
    "qwp.home()\n",
    "zero_hwp = K10CR1_stage(serial_no=55425494, verbose=False)\n",
    "zero_hwp.initialize_instrument()\n",
    "zero_hwp.home()"
   ]
  },
  {
   "cell_type": "code",
   "execution_count": 3,
   "metadata": {},
   "outputs": [],
   "source": [
    "def rotate(optic,\n",
    "           Laser=Laser,\n",
    "           start=0,\n",
    "           end=180, \n",
    "           num=31,\n",
    "           plot=True):\n",
    "    \n",
    "    Laser.write('output:state 1')\n",
    "    angles = np.linspace(start,end,num)\n",
    "    readings = np.zeros(shape=(num))\n",
    "    \n",
    "    # Stablize\n",
    "    time.sleep(1)\n",
    "\n",
    "    for index, angle in enumerate(angles):\n",
    "        optic.move(angle)\n",
    "        reading = read()\n",
    "        readings[index] = reading\n",
    "    \n",
    "    Laser.write('output:state 0')\n",
    "\n",
    "    if plot: \n",
    "        fig, ax = plt.subplots(subplot_kw={'projection':'polar'})\n",
    "        ax.plot(angles / 180.0 * np.pi, readings)\n",
    "        ax.set_ylim(0,)\n",
    "        plt.show()\n",
    "\n",
    "    return angles * np.pi / 180, readings"
   ]
  },
  {
   "cell_type": "code",
   "execution_count": 4,
   "metadata": {},
   "outputs": [],
   "source": [
    "incident_angles, qwp_angles, hwp_angles = np.load('sorted_pol_qwp_hwp.npy').T"
   ]
  },
  {
   "cell_type": "code",
   "execution_count": null,
   "metadata": {},
   "outputs": [],
   "source": [
    "zero_hwp_angles = []\n",
    "zero_hwp_readings = []\n",
    "for index, incident_angle in enumerate(incident_angles):\n",
    "    print(index, incident_angle)\n",
    "\n",
    "    # incident_angle = incident_angles[index]\n",
    "    qwp_angle = qwp_angles[index]\n",
    "    hwp_angle = hwp_angles[index]\n",
    "\n",
    "    qwp.move(qwp_angle)\n",
    "    hwp.move(hwp_angle)\n",
    "\n",
    "    test_angles, test_readings = rotate(optic=zero_hwp, start=0, end=180, num=61)\n",
    "    initial_zero_angle = test_angles[np.argmin(np.abs(test_readings))] * 180.0 / np.pi\n",
    "\n",
    "    zero_hwp_readings.append([test_readings])\n",
    "\n",
    "    test_angles, test_readings = rotate(optic=zero_hwp, start=initial_zero_angle-15, end=initial_zero_angle+15, num=31)\n",
    "    zero_angle = test_angles[np.argmin(np.abs(test_readings))] * 180.0 / np.pi\n",
    "\n",
    "    zero_hwp_angles.append([zero_angle, incident_angle, qwp_angle, hwp_angle])\n",
    "\n",
    "    qwp.home()\n",
    "    hwp.home()\n",
    "    zero_hwp.home()\n",
    "\n",
    "zero_hwp_angles\n",
    "zero_hwp_angles = np.array(zero_hwp_angles)\n",
    "\n",
    "np.save('mos2_calibration_zerohwp_pol_qwp_hwp', zero_hwp_angles)"
   ]
  }
 ],
 "metadata": {
  "kernelspec": {
   "display_name": "base",
   "language": "python",
   "name": "python3"
  },
  "language_info": {
   "codemirror_mode": {
    "name": "ipython",
    "version": 3
   },
   "file_extension": ".py",
   "mimetype": "text/x-python",
   "name": "python",
   "nbconvert_exporter": "python",
   "pygments_lexer": "ipython3",
   "version": "3.11.5"
  }
 },
 "nbformat": 4,
 "nbformat_minor": 2
}
