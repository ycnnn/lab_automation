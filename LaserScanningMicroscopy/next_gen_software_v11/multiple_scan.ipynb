{
 "cells": [
  {
   "cell_type": "code",
   "execution_count": 25,
   "metadata": {},
   "outputs": [],
   "source": [
    "import shutil\n",
    "import os\n",
    "import matplotlib.pyplot as plt\n",
    "import numpy as np\n",
    "######################################################################\n",
    "# Custom dependencies\n",
    "# from mp import Data_fetcher, Data_receiver\n",
    "from params.position_params import Position_parameters\n",
    "from params.scan_params import Scan_parameters\n",
    "from params.display_params import Display_parameters\n",
    "from scan_main_program import lsm_scan\n",
    "from inst_driver import External_instrument\n",
    "from external_instrument_drivers.Keithley2450_SMU import set_smu_ready_for_ramp, ramp\n",
    "######################################################################\n"
   ]
  },
  {
   "cell_type": "code",
   "execution_count": 26,
   "metadata": {},
   "outputs": [
    {
     "data": {
      "text/plain": [
       "28"
      ]
     },
     "execution_count": 26,
     "metadata": {},
     "output_type": "execute_result"
    }
   ],
   "source": [
    "gate = set_smu_ready_for_ramp()\n",
    "gate.write('smu.source.output = smu.ON')"
   ]
  },
  {
   "cell_type": "code",
   "execution_count": 27,
   "metadata": {},
   "outputs": [
    {
     "name": "stdout",
     "output_type": "stream",
     "text": [
      "Current VOLT reading is 1.6875765141e-06 V.\n"
     ]
    },
    {
     "data": {
      "text/plain": [
       "7.4259696703e-07"
      ]
     },
     "execution_count": 27,
     "metadata": {},
     "output_type": "execute_result"
    }
   ],
   "source": [
    "Vg = 0\n",
    "ramp(smu=gate, end_volt=Vg)"
   ]
  },
  {
   "cell_type": "code",
   "execution_count": null,
   "metadata": {},
   "outputs": [],
   "source": []
  }
 ],
 "metadata": {
  "kernelspec": {
   "display_name": "base",
   "language": "python",
   "name": "python3"
  },
  "language_info": {
   "codemirror_mode": {
    "name": "ipython",
    "version": 3
   },
   "file_extension": ".py",
   "mimetype": "text/x-python",
   "name": "python",
   "nbconvert_exporter": "python",
   "pygments_lexer": "ipython3",
   "version": "3.11.5"
  }
 },
 "nbformat": 4,
 "nbformat_minor": 2
}
