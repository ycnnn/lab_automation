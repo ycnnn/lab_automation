{
 "cells": [
  {
   "cell_type": "code",
   "execution_count": 33,
   "metadata": {},
   "outputs": [],
   "source": [
    "from params.position_params import Position_parameters\n",
    "from params.scan_params import Scan_parameters\n",
    "from daq_driver import reset_daq, set_z_height, read_daq_output\n",
    "import json\n",
    "import numpy as np"
   ]
  },
  {
   "cell_type": "code",
   "execution_count": 35,
   "metadata": {},
   "outputs": [
    {
     "data": {
      "text/plain": [
       "array([ 9.18465016e-05, -5.65699424e-04, -5.65699424e-04,  9.18465016e-05])"
      ]
     },
     "execution_count": 35,
     "metadata": {},
     "output_type": "execute_result"
    }
   ],
   "source": [
    "scan_parameters = Scan_parameters()\n",
    "reset_daq(scan_parameters)"
   ]
  },
  {
   "cell_type": "code",
   "execution_count": 34,
   "metadata": {},
   "outputs": [
    {
     "data": {
      "text/plain": [
       "array([-2.36926461e-04, -2.36926461e-04, -2.36926461e-04,  9.18465016e-05])"
      ]
     },
     "execution_count": 34,
     "metadata": {},
     "output_type": "execute_result"
    }
   ],
   "source": [
    "read_daq_output(scan_parameters)"
   ]
  },
  {
   "cell_type": "code",
   "execution_count": 38,
   "metadata": {},
   "outputs": [],
   "source": [
    "position_parameters = Position_parameters(\n",
    "                                            x_size=10,\n",
    "                                            y_size=10,\n",
    "                                            # x_center=0,\n",
    "                                            # y_center=0,\n",
    "                                            x_pixels=128,\n",
    "                                            y_pixels=100,\n",
    "                                            z_center=20)\n",
    "set_z_height(scan_parameters, position_parameters)"
   ]
  },
  {
   "cell_type": "code",
   "execution_count": 4,
   "metadata": {},
   "outputs": [
    {
     "data": {
      "text/plain": [
       "array([[4.25      , 4.25      , 4.25      , ..., 4.25      , 4.25      ,\n",
       "        4.25      ],\n",
       "       [4.25      , 4.25      , 4.25      , ..., 4.25      , 4.25      ,\n",
       "        4.25      ],\n",
       "       [4.26515152, 4.26515152, 4.26515152, ..., 4.26515152, 4.26515152,\n",
       "        4.26515152],\n",
       "       ...,\n",
       "       [5.73484848, 5.73484848, 5.73484848, ..., 5.73484848, 5.73484848,\n",
       "        5.73484848],\n",
       "       [5.75      , 5.75      , 5.75      , ..., 5.75      , 5.75      ,\n",
       "        5.75      ],\n",
       "       [5.75      , 5.75      , 5.75      , ..., 5.75      , 5.75      ,\n",
       "        5.75      ]])"
      ]
     },
     "execution_count": 4,
     "metadata": {},
     "output_type": "execute_result"
    }
   ],
   "source": [
    "position_parameters.y_output"
   ]
  },
  {
   "cell_type": "code",
   "execution_count": 6,
   "metadata": {},
   "outputs": [
    {
     "data": {
      "text/plain": [
       "array([4.99976480e+00, 4.99976480e+00, 5.99773924e-01, 9.18465016e-05])"
      ]
     },
     "execution_count": 6,
     "metadata": {},
     "output_type": "execute_result"
    }
   ],
   "source": [
    "read_daq_output(scan_parameters)"
   ]
  },
  {
   "cell_type": "code",
   "execution_count": null,
   "metadata": {},
   "outputs": [],
   "source": []
  }
 ],
 "metadata": {
  "kernelspec": {
   "display_name": "base",
   "language": "python",
   "name": "python3"
  },
  "language_info": {
   "codemirror_mode": {
    "name": "ipython",
    "version": 3
   },
   "file_extension": ".py",
   "mimetype": "text/x-python",
   "name": "python",
   "nbconvert_exporter": "python",
   "pygments_lexer": "ipython3",
   "version": "3.11.5"
  }
 },
 "nbformat": 4,
 "nbformat_minor": 2
}
