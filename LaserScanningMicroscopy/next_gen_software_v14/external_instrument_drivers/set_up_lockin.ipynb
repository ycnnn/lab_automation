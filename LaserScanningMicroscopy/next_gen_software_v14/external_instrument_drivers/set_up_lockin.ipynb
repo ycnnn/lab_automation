{
 "cells": [
  {
   "cell_type": "code",
   "execution_count": 4,
   "metadata": {},
   "outputs": [],
   "source": [
    "import numpy as np\n",
    "import matplotlib.pyplot as plt\n",
    "import time\n",
    "# from daq_driver import playrec\n",
    "# from qcodes.instrument_drivers.stanford_research import SR860\n",
    "import pyvisa\n",
    "# lockin = SR860('lockin',\"USB0::0xB506::0x2000::002765::INSTR\")"
   ]
  },
  {
   "cell_type": "code",
   "execution_count": null,
   "metadata": {},
   "outputs": [],
   "source": []
  },
  {
   "cell_type": "code",
   "execution_count": 3,
   "metadata": {},
   "outputs": [],
   "source": [
    "# def ttl():\n",
    "#         ttl = 2.5*(1-np.arange(512)%2).reshape(-1,1)\n",
    "#         _ = playrec(data=ttl,\n",
    "#                 samplerate=5120,\n",
    "#                 input_mapping=['Dev2/ai0'],\n",
    "#                 output_mapping=['Dev2/ao3'])\n"
   ]
  },
  {
   "cell_type": "code",
   "execution_count": 5,
   "metadata": {},
   "outputs": [
    {
     "data": {
      "text/plain": [
       "13"
      ]
     },
     "execution_count": 5,
     "metadata": {},
     "output_type": "execute_result"
    }
   ],
   "source": [
    "rm = pyvisa.ResourceManager()\n",
    "lockin = rm.open_resource('USB0::0xB506::0x2000::002765::INSTR')\n",
    "\n",
    "# Reset\n",
    "lockin.write('*rst')\n",
    "lockin.query('*idn?')\n",
    "\n",
    "# build buffer\n",
    "lockin.write('capturelen 256')\n",
    "\n",
    "# record XY signals\n",
    "lockin.write('capturecfg xy')\n",
    "\n",
    "# Set the capture mode as external trigger\n",
    "lockin.write('rtrg posttl')\n",
    "\n",
    "# Set the input source as VOLTAGE\n",
    "lockin.write('ivmd volt')\n",
    "lockin.query('ivmd?')\n",
    "\n",
    "# Set the input mode as A\n",
    "lockin.write('isrc 0')\n",
    "lockin.query('isrc?')\n",
    "\n",
    "# Set the input coupling. Always use AC coupling unless signal frequency <= 0.16 Hz (unlikely)\n",
    "lockin.write('icpl 0')\n",
    "lockin.query('icpl?')\n",
    "\n",
    "# Set the voltage input shield as float\n",
    "lockin.write('ignd 0')\n",
    "lockin.query('ignd?')\n",
    "\n",
    "# Set the voltage input range\n",
    "# Levels and range: 0->1V, 1->300mV, 2->100mV 3->30mV, 4->10mV\n",
    "lockin.write('irng 1')\n",
    "lockin.query('irng?')\n",
    "\n",
    "# Set the signal sensitivity\n",
    "# Levels and range: 0->1V, 1->500mV, 2->200mV 3->100mV, 4->50mV, 5->20mV, 6->10mV, 7->5mV, 8->2mV, \n",
    "# 9->1mV, 10->500uV, 11->200uV, 12->100uV, 13->50uV, 14->20uV\n",
    "lockin.write('scal 6')\n",
    "lockin.query('scal?')\n",
    "\n",
    "# Set the time constant\n",
    "# Levels and range: 0->1us, 1->3us, 2->10us 3->30us, 4->100us, 5->300us, 6->1ms, 7->3ms, 8->10ms, \n",
    "# 9->30ms, 10->100ms, 11->300ms, 12->1s, 13->3s, 14->10s, 15->30s, 16->100s, 17->300s, 18->1000s, 19->3000s, 20->10000s\n",
    "lockin.write('oflt 9')\n",
    "lockin.query('oflt?')\n",
    "\n",
    "# Set the reference frequency of the sine output signal as 20.17 kHz\n",
    "lockin.write('freq 20170')\n",
    "lockin.query('freq?')\n",
    "\n",
    "# Set the amplitude of the sine output signal \n",
    "lockin.write('slvl 0')\n",
    "lockin.query('slvl?')\n"
   ]
  },
  {
   "cell_type": "code",
   "execution_count": 7,
   "metadata": {},
   "outputs": [
    {
     "data": {
      "text/plain": [
       "11"
      ]
     },
     "execution_count": 7,
     "metadata": {},
     "output_type": "execute_result"
    }
   ],
   "source": []
  },
  {
   "cell_type": "code",
   "execution_count": 10,
   "metadata": {},
   "outputs": [
    {
     "data": {
      "text/plain": [
       "'0\\n'"
      ]
     },
     "execution_count": 10,
     "metadata": {},
     "output_type": "execute_result"
    }
   ],
   "source": []
  },
  {
   "cell_type": "code",
   "execution_count": 11,
   "metadata": {},
   "outputs": [
    {
     "data": {
      "text/plain": [
       "'0\\n'"
      ]
     },
     "execution_count": 11,
     "metadata": {},
     "output_type": "execute_result"
    }
   ],
   "source": []
  },
  {
   "cell_type": "code",
   "execution_count": 12,
   "metadata": {},
   "outputs": [
    {
     "data": {
      "text/plain": [
       "'0\\n'"
      ]
     },
     "execution_count": 12,
     "metadata": {},
     "output_type": "execute_result"
    }
   ],
   "source": []
  },
  {
   "cell_type": "code",
   "execution_count": 13,
   "metadata": {},
   "outputs": [
    {
     "data": {
      "text/plain": [
       "'1\\n'"
      ]
     },
     "execution_count": 13,
     "metadata": {},
     "output_type": "execute_result"
    }
   ],
   "source": []
  },
  {
   "cell_type": "code",
   "execution_count": 14,
   "metadata": {},
   "outputs": [
    {
     "data": {
      "text/plain": [
       "'6\\n'"
      ]
     },
     "execution_count": 14,
     "metadata": {},
     "output_type": "execute_result"
    }
   ],
   "source": []
  },
  {
   "cell_type": "code",
   "execution_count": 15,
   "metadata": {},
   "outputs": [
    {
     "data": {
      "text/plain": [
       "'9\\n'"
      ]
     },
     "execution_count": 15,
     "metadata": {},
     "output_type": "execute_result"
    }
   ],
   "source": []
  },
  {
   "cell_type": "code",
   "execution_count": 18,
   "metadata": {},
   "outputs": [
    {
     "data": {
      "text/plain": [
       "'20170\\n'"
      ]
     },
     "execution_count": 18,
     "metadata": {},
     "output_type": "execute_result"
    }
   ],
   "source": []
  },
  {
   "cell_type": "code",
   "execution_count": 20,
   "metadata": {},
   "outputs": [
    {
     "data": {
      "text/plain": [
       "'0\\n'"
      ]
     },
     "execution_count": 20,
     "metadata": {},
     "output_type": "execute_result"
    }
   ],
   "source": []
  },
  {
   "cell_type": "code",
   "execution_count": null,
   "metadata": {},
   "outputs": [],
   "source": []
  }
 ],
 "metadata": {
  "kernelspec": {
   "display_name": "base",
   "language": "python",
   "name": "python3"
  },
  "language_info": {
   "codemirror_mode": {
    "name": "ipython",
    "version": 3
   },
   "file_extension": ".py",
   "mimetype": "text/x-python",
   "name": "python",
   "nbconvert_exporter": "python",
   "pygments_lexer": "ipython3",
   "version": "3.11.5"
  }
 },
 "nbformat": 4,
 "nbformat_minor": 2
}
