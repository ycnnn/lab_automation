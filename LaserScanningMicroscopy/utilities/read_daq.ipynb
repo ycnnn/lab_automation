{
 "cells": [
  {
   "cell_type": "code",
   "execution_count": 1,
   "id": "04618fc6",
   "metadata": {},
   "outputs": [],
   "source": [
    "import nidaqmx as ni\n",
    "import numpy as np\n",
    "from nidaqmx.constants import AcquisitionType\n",
    "DAQ_name = 'Dev2'"
   ]
  },
  {
   "cell_type": "code",
   "execution_count": null,
   "id": "65d301e8",
   "metadata": {},
   "outputs": [],
   "source": [
    "def read(rate=10000, number_of_samples_per_channel=1000):\n",
    "    with ni.Task() as read_task:\n",
    "        for channel_id in [0,1]:\n",
    "            read_task.ai_channels.add_ai_voltage_chan(DAQ_name + f\"/ai{channel_id}\",\n",
    "                                    min_val=-10, max_val=10)\n",
    "            read_task.timing.cfg_samp_clk_timing(rate=rate,\n",
    "                                                sample_mode=AcquisitionType.FINITE)\n",
    "        raw_result = np.array(read_task.read(number_of_samples_per_channel=number_of_samples_per_channel))\n",
    "        return np.mean(raw_result, axis=1)"
   ]
  },
  {
   "cell_type": "code",
   "execution_count": 4,
   "id": "f9e10599",
   "metadata": {},
   "outputs": [
    {
     "data": {
      "text/plain": [
       "array([-3.40735431e-05, -9.69103849e-04])"
      ]
     },
     "execution_count": 4,
     "metadata": {},
     "output_type": "execute_result"
    }
   ],
   "source": [
    "read()"
   ]
  },
  {
   "cell_type": "code",
   "execution_count": null,
   "id": "3ad179e8",
   "metadata": {},
   "outputs": [],
   "source": []
  }
 ],
 "metadata": {
  "kernelspec": {
   "display_name": "base",
   "language": "python",
   "name": "python3"
  },
  "language_info": {
   "codemirror_mode": {
    "name": "ipython",
    "version": 3
   },
   "file_extension": ".py",
   "mimetype": "text/x-python",
   "name": "python",
   "nbconvert_exporter": "python",
   "pygments_lexer": "ipython3",
   "version": "3.11.5"
  }
 },
 "nbformat": 4,
 "nbformat_minor": 5
}
