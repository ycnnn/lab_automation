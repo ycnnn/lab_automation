{
 "cells": [
  {
   "cell_type": "code",
   "execution_count": 1,
   "metadata": {},
   "outputs": [],
   "source": [
    "from params.position_params import Position_parameters\n",
    "from params.scan_params import Scan_parameters\n",
    "from daq_driver import reset_daq, set_z_height, read_daq_output\n",
    "import json\n",
    "import numpy as np"
   ]
  },
  {
   "cell_type": "code",
   "execution_count": 2,
   "metadata": {},
   "outputs": [
    {
     "data": {
      "text/plain": [
       "array([-0.00023693, -0.0005657 , -0.00023693, -0.00023693])"
      ]
     },
     "execution_count": 2,
     "metadata": {},
     "output_type": "execute_result"
    }
   ],
   "source": [
    "scan_parameters = Scan_parameters()\n",
    "reset_daq(scan_parameters)"
   ]
  },
  {
   "cell_type": "code",
   "execution_count": 3,
   "metadata": {},
   "outputs": [
    {
     "data": {
      "text/plain": [
       "array([ 9.18465016e-05, -2.36926461e-04, -2.36926461e-04, -2.36926461e-04])"
      ]
     },
     "execution_count": 3,
     "metadata": {},
     "output_type": "execute_result"
    }
   ],
   "source": [
    "read_daq_output(scan_parameters)"
   ]
  },
  {
   "cell_type": "code",
   "execution_count": 2,
   "metadata": {},
   "outputs": [],
   "source": [
    "position_parameters = Position_parameters(\n",
    "                                            x_size=15,\n",
    "                                            y_size=15,\n",
    "                                            x_pixels=128,\n",
    "                                            y_pixels=100,\n",
    "                                            z_center=3)\n",
    "# set_z_height(scan_parameters, position_parameters)"
   ]
  },
  {
   "cell_type": "code",
   "execution_count": 4,
   "metadata": {},
   "outputs": [
    {
     "data": {
      "text/plain": [
       "array([[4.25      , 4.25      , 4.25      , ..., 4.25      , 4.25      ,\n",
       "        4.25      ],\n",
       "       [4.25      , 4.25      , 4.25      , ..., 4.25      , 4.25      ,\n",
       "        4.25      ],\n",
       "       [4.26515152, 4.26515152, 4.26515152, ..., 4.26515152, 4.26515152,\n",
       "        4.26515152],\n",
       "       ...,\n",
       "       [5.73484848, 5.73484848, 5.73484848, ..., 5.73484848, 5.73484848,\n",
       "        5.73484848],\n",
       "       [5.75      , 5.75      , 5.75      , ..., 5.75      , 5.75      ,\n",
       "        5.75      ],\n",
       "       [5.75      , 5.75      , 5.75      , ..., 5.75      , 5.75      ,\n",
       "        5.75      ]])"
      ]
     },
     "execution_count": 4,
     "metadata": {},
     "output_type": "execute_result"
    }
   ],
   "source": [
    "position_parameters.y_output"
   ]
  },
  {
   "cell_type": "code",
   "execution_count": 7,
   "metadata": {},
   "outputs": [
    {
     "data": {
      "text/plain": [
       "array([[ 1.5       ,  1.5       ,  1.5       , ...,  1.5       ,\n",
       "         1.5       ,  1.5       ],\n",
       "       [ 1.5       ,  1.5       ,  1.5       , ...,  1.5       ,\n",
       "         1.5       ,  1.5       ],\n",
       "       [ 1.46969697,  1.46969697,  1.46969697, ...,  1.46969697,\n",
       "         1.46969697,  1.46969697],\n",
       "       ...,\n",
       "       [-1.46969697, -1.46969697, -1.46969697, ..., -1.46969697,\n",
       "        -1.46969697, -1.46969697],\n",
       "       [-1.5       , -1.5       , -1.5       , ..., -1.5       ,\n",
       "        -1.5       , -1.5       ],\n",
       "       [-1.5       , -1.5       , -1.5       , ..., -1.5       ,\n",
       "        -1.5       , -1.5       ]])"
      ]
     },
     "execution_count": 7,
     "metadata": {},
     "output_type": "execute_result"
    }
   ],
   "source": [
    "np.flip(position_parameters.y_output, axis=0) - position_parameters.y_output"
   ]
  },
  {
   "cell_type": "code",
   "execution_count": 14,
   "metadata": {},
   "outputs": [
    {
     "ename": "NameError",
     "evalue": "name 'scan_parameters' is not defined",
     "output_type": "error",
     "traceback": [
      "\u001b[1;31m---------------------------------------------------------------------------\u001b[0m",
      "\u001b[1;31mNameError\u001b[0m                                 Traceback (most recent call last)",
      "Cell \u001b[1;32mIn[14], line 1\u001b[0m\n\u001b[1;32m----> 1\u001b[0m read_daq_output(scan_parameters)\n",
      "\u001b[1;31mNameError\u001b[0m: name 'scan_parameters' is not defined"
     ]
    }
   ],
   "source": [
    "read_daq_output(scan_parameters)"
   ]
  }
 ],
 "metadata": {
  "kernelspec": {
   "display_name": "base",
   "language": "python",
   "name": "python3"
  },
  "language_info": {
   "codemirror_mode": {
    "name": "ipython",
    "version": 3
   },
   "file_extension": ".py",
   "mimetype": "text/x-python",
   "name": "python",
   "nbconvert_exporter": "python",
   "pygments_lexer": "ipython3",
   "version": "3.11.5"
  }
 },
 "nbformat": 4,
 "nbformat_minor": 2
}
