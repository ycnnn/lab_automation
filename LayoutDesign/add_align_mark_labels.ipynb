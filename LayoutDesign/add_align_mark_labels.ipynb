{
 "cells": [
  {
   "cell_type": "code",
   "execution_count": 1,
   "metadata": {},
   "outputs": [],
   "source": [
    "import pya\n",
    "layout = pya.Layout()\n",
    "top = layout.create_cell(\"TOP\")\n",
    "l1 = layout.layer(1, 0)\n",
    "l2 = layout.layer(2, 0)\n",
    "repeat = 10\n",
    "\n",
    "# size in microns\n",
    "size = 0.01\n",
    "# mag. Real size = size * mag\n",
    "mag = 400\n",
    "# spacing, in nm\n",
    "space_x = 1750 * 1000\n",
    "space_y = 1480 * 1000\n",
    "\n",
    "char_str = \"0123456789\"\n",
    "char_list = []\n",
    "\n",
    "for i in range(repeat):\n",
    "    for char in char_str:\n",
    "        char_list.append(str(i) + char)\n",
    "        \n",
    "for j in range(1):\n",
    "    for i, char in enumerate('ABCDEFGHIJKLMNOPQRSTUVWXYZ'):\n",
    "        region = pya.TextGenerator.default_generator().text(char, size, mag, None, None, 10, 10)\n",
    "        region.move(space_x * i,space_y *j) # in nm\n",
    "        top.shapes(l1).insert(region)\n",
    "\n",
    "for j in range(1):\n",
    "    for i, char in enumerate('12345678'):\n",
    "        region = pya.TextGenerator.default_generator().text(char, size, mag, None, None, 10, 10)\n",
    "        region.move(28000 + space_x * j,space_y * i) # in nm\n",
    "        top.shapes(l2).insert(region)\n",
    "        \n",
    "        \n",
    "# write the layout\n",
    "layout.write(\"t2.gds\")"
   ]
  }
 ],
 "metadata": {
  "kernelspec": {
   "display_name": "base",
   "language": "python",
   "name": "python3"
  },
  "language_info": {
   "codemirror_mode": {
    "name": "ipython",
    "version": 3
   },
   "file_extension": ".py",
   "mimetype": "text/x-python",
   "name": "python",
   "nbconvert_exporter": "python",
   "pygments_lexer": "ipython3",
   "version": "3.10.9"
  },
  "orig_nbformat": 4
 },
 "nbformat": 4,
 "nbformat_minor": 2
}
