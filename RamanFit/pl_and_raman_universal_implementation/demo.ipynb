{
 "cells": [
  {
   "cell_type": "code",
   "execution_count": 1,
   "metadata": {},
   "outputs": [],
   "source": [
    "import numpy as np\n",
    "from fit_func import load_helper\n",
    "from torch_fit import one_peak_map_fit, two_peak_map_fit\n",
    "import matplotlib.pyplot as plt\n",
    "import time"
   ]
  },
  {
   "cell_type": "code",
   "execution_count": 2,
   "metadata": {},
   "outputs": [
    {
     "name": "stderr",
     "output_type": "stream",
     "text": [
      "2024-11-05 16:49:31,194 - distributed.utils_perf - WARNING - full garbage collections took 18% CPU time recently (threshold: 10%)\n",
      "2024-11-05 16:49:31,322 - distributed.utils_perf - WARNING - full garbage collections took 18% CPU time recently (threshold: 10%)\n",
      "2024-11-05 16:49:32,059 - distributed.utils_perf - WARNING - full garbage collections took 21% CPU time recently (threshold: 10%)\n",
      "2024-11-05 16:49:32,160 - distributed.utils_perf - WARNING - full garbage collections took 19% CPU time recently (threshold: 10%)\n",
      "2024-11-05 16:49:32,183 - distributed.utils_perf - WARNING - full garbage collections took 21% CPU time recently (threshold: 10%)\n",
      "2024-11-05 16:49:32,282 - distributed.utils_perf - WARNING - full garbage collections took 19% CPU time recently (threshold: 10%)\n",
      "2024-11-05 16:49:32,819 - distributed.utils_perf - WARNING - full garbage collections took 18% CPU time recently (threshold: 10%)\n",
      "2024-11-05 16:49:32,915 - distributed.utils_perf - WARNING - full garbage collections took 18% CPU time recently (threshold: 10%)\n",
      "2024-11-05 16:49:33,005 - distributed.utils_perf - WARNING - full garbage collections took 33% CPU time recently (threshold: 10%)\n",
      "2024-11-05 16:49:33,095 - distributed.utils_perf - WARNING - full garbage collections took 33% CPU time recently (threshold: 10%)\n",
      "2024-11-05 16:49:33,570 - distributed.utils_perf - WARNING - full garbage collections took 21% CPU time recently (threshold: 10%)\n",
      "2024-11-05 16:49:33,600 - distributed.utils_perf - WARNING - full garbage collections took 33% CPU time recently (threshold: 10%)\n",
      "2024-11-05 16:49:33,603 - distributed.utils_perf - WARNING - full garbage collections took 19% CPU time recently (threshold: 10%)\n",
      "2024-11-05 16:49:33,688 - distributed.utils_perf - WARNING - full garbage collections took 19% CPU time recently (threshold: 10%)\n",
      "2024-11-05 16:49:33,895 - distributed.utils_perf - WARNING - full garbage collections took 19% CPU time recently (threshold: 10%)\n",
      "2024-11-05 16:49:33,980 - distributed.utils_perf - WARNING - full garbage collections took 19% CPU time recently (threshold: 10%)\n",
      "2024-11-05 16:49:33,995 - distributed.utils_perf - WARNING - full garbage collections took 21% CPU time recently (threshold: 10%)\n",
      "2024-11-05 16:49:34,012 - distributed.utils_perf - WARNING - full garbage collections took 31% CPU time recently (threshold: 10%)\n",
      "2024-11-05 16:49:34,087 - distributed.utils_perf - WARNING - full garbage collections took 21% CPU time recently (threshold: 10%)\n",
      "2024-11-05 16:49:34,196 - distributed.utils_perf - WARNING - full garbage collections took 19% CPU time recently (threshold: 10%)\n",
      "2024-11-05 16:49:34,277 - distributed.utils_perf - WARNING - full garbage collections took 21% CPU time recently (threshold: 10%)\n"
     ]
    }
   ],
   "source": [
    "x_input, y_input = load_helper(\"/Users/ycn/Documents/mcd/spectroscopy/data/wse2_circle_raman.txt\")"
   ]
  },
  {
   "cell_type": "code",
   "execution_count": null,
   "metadata": {},
   "outputs": [
    {
     "name": "stdout",
     "output_type": "stream",
     "text": [
      "Apple M series GPU acceleration enabled.\n"
     ]
    },
    {
     "name": "stderr",
     "output_type": "stream",
     "text": [
      "Loss 1.422520576 : 100%|██████████| 20000/20000 [09:09<00:00, 36.38it/s]\n"
     ]
    },
    {
     "data": {
      "text/plain": [
       "{'peak_0_amplitudes': array([[66.11474  , 85.50893  , 74.43416  , ..., 42.862507 , 37.65425  ,\n",
       "         28.225492 ],\n",
       "        [69.349335 , 78.333206 , 82.22103  , ..., 46.384777 , 35.370827 ,\n",
       "         37.906307 ],\n",
       "        [68.19083  , 85.748886 , 77.692444 , ..., 41.206646 , 42.625473 ,\n",
       "          4.6840525],\n",
       "        ...,\n",
       "        [57.71682  , 71.76037  , 71.647644 , ..., 26.248568 , 51.3462   ,\n",
       "         50.118652 ],\n",
       "        [61.054615 , 77.616936 , 76.10828  , ..., 30.936724 , 25.41699  ,\n",
       "         36.34255  ],\n",
       "        [56.26442  , 70.90899  , 68.36326  , ..., 18.289839 , 37.160614 ,\n",
       "         50.105698 ]], dtype=float32),\n",
       " 'peak_0_centers': array([[527.46234, 527.7166 , 527.41376, ..., 527.3644 , 527.03485,\n",
       "         522.9796 ],\n",
       "        [527.78143, 527.9891 , 527.5645 , ..., 526.3789 , 526.94617,\n",
       "         530.5823 ],\n",
       "        [527.4664 , 527.6265 , 527.7191 , ..., 526.8366 , 527.2734 ,\n",
       "         527.3388 ],\n",
       "        ...,\n",
       "        [527.6744 , 527.6177 , 527.8838 , ..., 528.0745 , 527.61847,\n",
       "         522.60144],\n",
       "        [527.6231 , 527.513  , 527.1136 , ..., 527.0561 , 527.34045,\n",
       "         526.4352 ],\n",
       "        [527.629  , 527.3939 , 527.282  , ..., 526.303  , 527.0665 ,\n",
       "         520.42145]], dtype=float32),\n",
       " 'peak_0_sigmas': array([[ 3.1973100e+00,  3.5922840e+00,  3.9584622e+00, ...,\n",
       "          4.0811248e+00,  3.6295474e+00,  1.6670283e-11],\n",
       "        [ 3.5678582e+00,  3.8289192e+00,  3.4274275e+00, ...,\n",
       "          2.9367139e+00,  4.0757737e+00, -1.1635763e-01],\n",
       "        [ 3.0892138e+00,  3.4612143e+00,  3.1005719e+00, ...,\n",
       "          3.0845678e+00,  3.3324220e+00,  3.6474025e+00],\n",
       "        ...,\n",
       "        [ 3.4502959e+00,  3.6313756e+00,  2.8611450e+00, ...,\n",
       "          2.6362324e+00,  2.7809915e-01,  1.8596541e-11],\n",
       "        [ 3.4945633e+00,  3.1894443e+00,  2.8175509e+00, ...,\n",
       "          2.4123685e+00,  2.9515646e+00,  1.4985964e-01],\n",
       "        [ 3.8238170e+00,  3.1101408e+00,  3.7002251e+00, ...,\n",
       "          3.4788339e+00,  4.4147998e-01,  1.2392066e-11]], dtype=float32),\n",
       " 'slopes': array([[ 0.04242576,  0.07880449,  0.02135311, ..., -0.01176851,\n",
       "         -0.06242974,  0.00372559],\n",
       "        [-0.00664404,  0.0900739 ,  0.02554521, ..., -0.01477068,\n",
       "         -0.06803127, -0.0571435 ],\n",
       "        [ 0.03645689,  0.02286182, -0.02357859, ..., -0.07583643,\n",
       "         -0.01511335,  0.03672022],\n",
       "        ...,\n",
       "        [ 0.0132855 , -0.00594003, -0.00344189, ..., -0.07894558,\n",
       "         -0.02767567, -0.02273611],\n",
       "        [-0.02127575,  0.04848542, -0.02843175, ..., -0.05520754,\n",
       "         -0.04590917, -0.01857895],\n",
       "        [-0.00792434,  0.04619994,  0.03489794, ...,  0.00066866,\n",
       "         -0.07700648, -0.03037205]], dtype=float32),\n",
       " 'intercepts': array([[25.196207  , -0.61975604, 28.202057  , ..., 48.891747  ,\n",
       "         75.48096   , 35.27535   ],\n",
       "        [49.984703  , -7.722423  , 25.451448  , ..., 53.31997   ,\n",
       "         78.62071   , 67.92043   ],\n",
       "        [29.926916  , 29.348446  , 55.971592  , ..., 84.64064   ,\n",
       "         52.08605   , 19.758776  ],\n",
       "        ...,\n",
       "        [45.32795   , 48.144028  , 52.838207  , ..., 90.75051   ,\n",
       "         61.62688   , 54.816216  ],\n",
       "        [66.727486  , 19.067097  , 61.39144   , ..., 76.231575  ,\n",
       "         71.63027   , 52.975975  ],\n",
       "        [57.170544  , 23.80185   , 26.266651  , ..., 43.531437  ,\n",
       "         91.14809   , 61.50136   ]], dtype=float32)}"
      ]
     },
     "execution_count": 3,
     "metadata": {},
     "output_type": "execute_result"
    }
   ],
   "source": [
    "single_eapk_result = one_peak_map_fit(x_input, y_input[:,:,:],\n",
    "                 peak_0_center_initial_guess=527.0,\n",
    "                 spec_cutoff_range=(510, 545))\n",
    "np.save('circle_single_peak',single_eapk_result)\n",
    "double_eapk_result = two_peak_map_fit(x_input, y_input[:,:,:],\n",
    "                 peak_0_center_initial_guess=256.0,\n",
    "                 peak_1_center_initial_guess=268.0,\n",
    "                 spec_cutoff_range=(245, 285))\n",
    "np.save('circle_double_peak',double_eapk_result)"
   ]
  },
  {
   "cell_type": "code",
   "execution_count": null,
   "metadata": {},
   "outputs": [],
   "source": []
  }
 ],
 "metadata": {
  "kernelspec": {
   "display_name": "base",
   "language": "python",
   "name": "python3"
  },
  "language_info": {
   "codemirror_mode": {
    "name": "ipython",
    "version": 3
   },
   "file_extension": ".py",
   "mimetype": "text/x-python",
   "name": "python",
   "nbconvert_exporter": "python",
   "pygments_lexer": "ipython3",
   "version": "3.11.8"
  }
 },
 "nbformat": 4,
 "nbformat_minor": 2
}
