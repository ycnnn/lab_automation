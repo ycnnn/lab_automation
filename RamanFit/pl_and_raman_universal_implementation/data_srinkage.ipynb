{
 "cells": [
  {
   "cell_type": "code",
   "execution_count": 1,
   "metadata": {},
   "outputs": [],
   "source": [
    "import numpy as np\n",
    "from fit_func import load_helper\n",
    "from torch_fit import one_peak_map_fit, two_peak_map_fit\n",
    "import matplotlib.pyplot as plt\n",
    "import time"
   ]
  },
  {
   "cell_type": "code",
   "execution_count": 2,
   "metadata": {},
   "outputs": [
    {
     "name": "stderr",
     "output_type": "stream",
     "text": [
      "2024-11-05 17:42:13,536 - distributed.utils_perf - WARNING - full garbage collections took 22% CPU time recently (threshold: 10%)\n",
      "2024-11-05 17:42:13,685 - distributed.utils_perf - WARNING - full garbage collections took 22% CPU time recently (threshold: 10%)\n",
      "2024-11-05 17:42:13,722 - distributed.utils_perf - WARNING - full garbage collections took 19% CPU time recently (threshold: 10%)\n",
      "2024-11-05 17:42:13,927 - distributed.utils_perf - WARNING - full garbage collections took 19% CPU time recently (threshold: 10%)\n",
      "2024-11-05 17:42:14,919 - distributed.utils_perf - WARNING - full garbage collections took 22% CPU time recently (threshold: 10%)\n",
      "2024-11-05 17:42:15,044 - distributed.utils_perf - WARNING - full garbage collections took 22% CPU time recently (threshold: 10%)\n",
      "2024-11-05 17:42:15,620 - distributed.utils_perf - WARNING - full garbage collections took 20% CPU time recently (threshold: 10%)\n",
      "2024-11-05 17:42:15,728 - distributed.utils_perf - WARNING - full garbage collections took 20% CPU time recently (threshold: 10%)\n",
      "2024-11-05 17:42:16,231 - distributed.utils_perf - WARNING - full garbage collections took 20% CPU time recently (threshold: 10%)\n",
      "2024-11-05 17:42:16,324 - distributed.utils_perf - WARNING - full garbage collections took 20% CPU time recently (threshold: 10%)\n",
      "2024-11-05 17:42:16,422 - distributed.utils_perf - WARNING - full garbage collections took 34% CPU time recently (threshold: 10%)\n",
      "2024-11-05 17:42:16,522 - distributed.utils_perf - WARNING - full garbage collections took 34% CPU time recently (threshold: 10%)\n",
      "2024-11-05 17:42:16,740 - distributed.utils_perf - WARNING - full garbage collections took 19% CPU time recently (threshold: 10%)\n",
      "2024-11-05 17:42:16,974 - distributed.utils_perf - WARNING - full garbage collections took 32% CPU time recently (threshold: 10%)\n",
      "2024-11-05 17:42:17,080 - distributed.utils_perf - WARNING - full garbage collections took 36% CPU time recently (threshold: 10%)\n",
      "2024-11-05 17:42:17,153 - distributed.utils_perf - WARNING - full garbage collections took 20% CPU time recently (threshold: 10%)\n",
      "2024-11-05 17:42:17,156 - distributed.utils_perf - WARNING - full garbage collections took 37% CPU time recently (threshold: 10%)\n",
      "2024-11-05 17:42:17,366 - distributed.utils_perf - WARNING - full garbage collections took 20% CPU time recently (threshold: 10%)\n",
      "2024-11-05 17:42:17,406 - distributed.utils_perf - WARNING - full garbage collections took 34% CPU time recently (threshold: 10%)\n",
      "2024-11-05 17:42:17,485 - distributed.utils_perf - WARNING - full garbage collections took 34% CPU time recently (threshold: 10%)\n"
     ]
    }
   ],
   "source": [
    "x_input, y_input = load_helper(\"/Users/ycn/Documents/mcd/spectroscopy/data/wse2_bar_raman.txt\")"
   ]
  },
  {
   "cell_type": "code",
   "execution_count": 3,
   "metadata": {},
   "outputs": [
    {
     "data": {
      "text/plain": [
       "(186, 400, 1340)"
      ]
     },
     "execution_count": 3,
     "metadata": {},
     "output_type": "execute_result"
    }
   ],
   "source": [
    "y_input.shape"
   ]
  },
  {
   "cell_type": "code",
   "execution_count": 5,
   "metadata": {},
   "outputs": [],
   "source": [
    "np.save(\"wse2_bar_raman_x\", x_input)\n",
    "np.save(\"wse2_bar_raman_y\", y_input)"
   ]
  },
  {
   "cell_type": "code",
   "execution_count": null,
   "metadata": {},
   "outputs": [],
   "source": []
  }
 ],
 "metadata": {
  "kernelspec": {
   "display_name": "base",
   "language": "python",
   "name": "python3"
  },
  "language_info": {
   "codemirror_mode": {
    "name": "ipython",
    "version": 3
   },
   "file_extension": ".py",
   "mimetype": "text/x-python",
   "name": "python",
   "nbconvert_exporter": "python",
   "pygments_lexer": "ipython3",
   "version": "3.11.8"
  }
 },
 "nbformat": 4,
 "nbformat_minor": 2
}
