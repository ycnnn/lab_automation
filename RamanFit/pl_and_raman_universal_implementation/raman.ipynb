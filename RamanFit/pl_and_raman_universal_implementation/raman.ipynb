{
 "cells": [
  {
   "cell_type": "code",
   "execution_count": 1,
   "metadata": {},
   "outputs": [],
   "source": [
    "import numpy as np\n",
    "from fit_func import load_helper\n",
    "from torch_fit import one_peak_map_fit, two_peak_map_fit\n",
    "import matplotlib.pyplot as plt\n",
    "import time"
   ]
  },
  {
   "cell_type": "code",
   "execution_count": 2,
   "metadata": {},
   "outputs": [],
   "source": [
    "x_input = np.load(\"/Users/ycn/Documents/mcd/spectroscopy/data/wse2_circle_raman_x.npy\")\n",
    "y_input = np.load(\"/Users/ycn/Documents/mcd/spectroscopy/data/wse2_circle_raman_y.npy\")"
   ]
  },
  {
   "cell_type": "code",
   "execution_count": 3,
   "metadata": {},
   "outputs": [
    {
     "name": "stdout",
     "output_type": "stream",
     "text": [
      "Apple M series GPU acceleration enabled.\n"
     ]
    },
    {
     "name": "stderr",
     "output_type": "stream",
     "text": [
      "Loss 0.958342336 : 100%|██████████| 10000/10000 [02:54<00:00, 57.27it/s]\n"
     ]
    },
    {
     "name": "stdout",
     "output_type": "stream",
     "text": [
      "Apple M series GPU acceleration enabled.\n",
      "Running initial fit, guess 256.0 and 268.0...\n"
     ]
    },
    {
     "name": "stderr",
     "output_type": "stream",
     "text": [
      "Loss 1.111847424 : 100%|██████████| 10000/10000 [04:52<00:00, 34.14it/s]\n"
     ]
    }
   ],
   "source": [
    "single_peak_result = one_peak_map_fit(x_input, y_input[:,:,:],\n",
    "                 peak_0_center_initial_guess=527.0,\n",
    "                 spec_cutoff_range=(510, 545),\n",
    "                 iterations=10000)\n",
    "\n",
    "double_peak_result = two_peak_map_fit(x_input, y_input[:,:,:],\n",
    "                 peak_0_center_initial_guess=256.0,\n",
    "                 peak_1_center_initial_guess=268.0,\n",
    "                 spec_cutoff_range=(245, 285),\n",
    "                 iterations=10000)\n"
   ]
  },
  {
   "cell_type": "code",
   "execution_count": 10,
   "metadata": {},
   "outputs": [],
   "source": [
    "np.savetxt(\"circle_raman\",double_peak_result[0])\n",
    "# np.save('circle_single_peak_new',single_peak_result)\n",
    "# np.save('circle_double_peak_new',double_peak_result)"
   ]
  },
  {
   "cell_type": "code",
   "execution_count": null,
   "metadata": {},
   "outputs": [],
   "source": []
  }
 ],
 "metadata": {
  "kernelspec": {
   "display_name": "base",
   "language": "python",
   "name": "python3"
  },
  "language_info": {
   "codemirror_mode": {
    "name": "ipython",
    "version": 3
   },
   "file_extension": ".py",
   "mimetype": "text/x-python",
   "name": "python",
   "nbconvert_exporter": "python",
   "pygments_lexer": "ipython3",
   "version": "3.11.8"
  }
 },
 "nbformat": 4,
 "nbformat_minor": 2
}
