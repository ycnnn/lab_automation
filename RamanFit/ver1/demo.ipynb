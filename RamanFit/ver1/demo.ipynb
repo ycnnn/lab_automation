{
 "cells": [
  {
   "cell_type": "code",
   "execution_count": 1,
   "metadata": {},
   "outputs": [],
   "source": [
    "import numpy as np\n",
    "import mos2_rfit as rfit\n",
    "from fit_func import fit\n",
    "\n",
    "x, data = rfit.load_helper('test.txt')\n",
    "rmap = rfit.MoS2_Raman(x, data[:,305:388,:], \n",
    "                        _max_iters=50)\n",
    "np.save('fitted.npy', rmap.get_fitted())\n",
    "np.save('fitted_err.npy', rmap.get_fitted_err())\n",
    "    \n"
   ]
  }
 ],
 "metadata": {
  "kernelspec": {
   "display_name": "base",
   "language": "python",
   "name": "python3"
  },
  "language_info": {
   "codemirror_mode": {
    "name": "ipython",
    "version": 3
   },
   "file_extension": ".py",
   "mimetype": "text/x-python",
   "name": "python",
   "nbconvert_exporter": "python",
   "pygments_lexer": "ipython3",
   "version": "3.10.9"
  }
 },
 "nbformat": 4,
 "nbformat_minor": 2
}
