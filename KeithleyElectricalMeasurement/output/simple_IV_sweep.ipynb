{
 "cells": [
  {
   "cell_type": "code",
   "execution_count": 1,
   "metadata": {},
   "outputs": [],
   "source": [
    "from IV_sweep import set_smu_ready, ramp, close_smu, full_sweep\n",
    "\n",
    "drain = set_smu_ready(address=\"USB0::0x05E6::0x2450::04096333::INSTR\")\n",
    "data = full_sweep(smu=drain,\n",
    "      start_volt=-0.5,\n",
    "      end_volt=0.5,\n",
    "      scan_steps=25,\n",
    "      delay=0.001\n",
    "      )"
   ]
  },
  {
   "cell_type": "code",
   "execution_count": 2,
   "metadata": {},
   "outputs": [
    {
     "data": {
      "text/plain": [
       "(25, 2)"
      ]
     },
     "execution_count": 2,
     "metadata": {},
     "output_type": "execute_result"
    }
   ],
   "source": [
    "data.shape"
   ]
  },
  {
   "cell_type": "code",
   "execution_count": 3,
   "metadata": {},
   "outputs": [],
   "source": [
    "drain = set_smu_ready(address=\"USB0::0x05E6::0x2450::04096333::INSTR\")\n",
    "data = full_sweep(smu=drain,\n",
    "      start_volt=-0.5,\n",
    "      end_volt=0.5,\n",
    "      scan_steps=25,\n",
    "      delay=0.001,\n",
    "      hyst=True\n",
    "      )"
   ]
  },
  {
   "cell_type": "code",
   "execution_count": 4,
   "metadata": {},
   "outputs": [
    {
     "data": {
      "text/plain": [
       "(50, 2)"
      ]
     },
     "execution_count": 4,
     "metadata": {},
     "output_type": "execute_result"
    }
   ],
   "source": [
    "data.shape"
   ]
  }
 ],
 "metadata": {
  "kernelspec": {
   "display_name": "base",
   "language": "python",
   "name": "python3"
  },
  "language_info": {
   "codemirror_mode": {
    "name": "ipython",
    "version": 3
   },
   "file_extension": ".py",
   "mimetype": "text/x-python",
   "name": "python",
   "nbconvert_exporter": "python",
   "pygments_lexer": "ipython3",
   "version": "3.11.5"
  }
 },
 "nbformat": 4,
 "nbformat_minor": 2
}
