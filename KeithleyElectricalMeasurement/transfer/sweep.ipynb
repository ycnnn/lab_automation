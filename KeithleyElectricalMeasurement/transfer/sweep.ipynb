{
 "cells": [
  {
   "cell_type": "code",
   "execution_count": 1,
   "metadata": {},
   "outputs": [],
   "source": [
    "from pysweep_transfer import transfer_sweep"
   ]
  },
  {
   "cell_type": "code",
   "execution_count": 2,
   "metadata": {},
   "outputs": [],
   "source": [
    "transfer_sweep_params = {'gate_ramp_steps': 20,\n",
    "'drain_ramp_steps': 10,\n",
    "'sweep_steps': 40,\n",
    "'drain_voltage': 1,\n",
    "'gate_start': -10,\n",
    "'gate_end': 10,\n",
    "'test_hysteresis': True}"
   ]
  },
  {
   "cell_type": "code",
   "execution_count": 3,
   "metadata": {},
   "outputs": [
    {
     "name": "stdout",
     "output_type": "stream",
     "text": [
      "Sweep completed.\r"
     ]
    }
   ],
   "source": [
    "gate_readings, drain_readings = transfer_sweep(**transfer_sweep_params)"
   ]
  }
 ],
 "metadata": {
  "kernelspec": {
   "display_name": "base",
   "language": "python",
   "name": "python3"
  },
  "language_info": {
   "codemirror_mode": {
    "name": "ipython",
    "version": 3
   },
   "file_extension": ".py",
   "mimetype": "text/x-python",
   "name": "python",
   "nbconvert_exporter": "python",
   "pygments_lexer": "ipython3",
   "version": "3.11.5"
  }
 },
 "nbformat": 4,
 "nbformat_minor": 2
}
